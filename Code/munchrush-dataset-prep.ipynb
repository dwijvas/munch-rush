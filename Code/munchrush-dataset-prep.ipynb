{
 "cells": [
  {
   "cell_type": "code",
   "execution_count": 1,
   "id": "fb56be3e",
   "metadata": {
    "_cell_guid": "b1076dfc-b9ad-4769-8c92-a6c4dae69d19",
    "_uuid": "8f2839f25d086af736a60e9eeb907d3b93b6e0e5",
    "execution": {
     "iopub.execute_input": "2024-01-28T10:49:48.052086Z",
     "iopub.status.busy": "2024-01-28T10:49:48.051718Z",
     "iopub.status.idle": "2024-01-28T10:50:14.733498Z",
     "shell.execute_reply": "2024-01-28T10:50:14.732704Z"
    },
    "papermill": {
     "duration": 26.698298,
     "end_time": "2024-01-28T10:50:14.736016",
     "exception": false,
     "start_time": "2024-01-28T10:49:48.037718",
     "status": "completed"
    },
    "tags": []
   },
   "outputs": [],
   "source": [
    "# This Python 3 environment comes with many helpful analytics libraries installed\n",
    "# It is defined by the kaggle/python Docker image: https://github.com/kaggle/docker-python\n",
    "# For example, here's several helpful packages to load\n",
    "\n",
    "import numpy as np # linear algebra\n",
    "import pandas as pd # data processing, CSV file I/O (e.g. pd.read_csv)\n",
    "\n",
    "# Input data files are available in the read-only \"../input/\" directory\n",
    "# For example, running this (by clicking run or pressing Shift+Enter) will list all files under the input directory\n",
    "\n",
    "import os\n",
    "for dirname, _, filenames in os.walk('/kaggle/input'):\n",
    "    for filename in filenames:\n",
    "        #print(os.path.join(dirname, filename))\n",
    "        pass\n",
    "\n",
    "# You can write up to 20GB to the current directory (/kaggle/working/) that gets preserved as output when you create a version using \"Save & Run All\" \n",
    "# You can also write temporary files to /kaggle/temp/, but they won't be saved outside of the current session"
   ]
  },
  {
   "cell_type": "markdown",
   "id": "085055a6",
   "metadata": {
    "papermill": {
     "duration": 0.011648,
     "end_time": "2024-01-28T10:50:14.760500",
     "exception": false,
     "start_time": "2024-01-28T10:50:14.748852",
     "status": "completed"
    },
    "tags": []
   },
   "source": [
    "# Library Imports"
   ]
  },
  {
   "cell_type": "code",
   "execution_count": 2,
   "id": "260fd0d1",
   "metadata": {
    "execution": {
     "iopub.execute_input": "2024-01-28T10:50:14.785769Z",
     "iopub.status.busy": "2024-01-28T10:50:14.785352Z",
     "iopub.status.idle": "2024-01-28T10:50:22.765646Z",
     "shell.execute_reply": "2024-01-28T10:50:22.764832Z"
    },
    "papermill": {
     "duration": 7.99538,
     "end_time": "2024-01-28T10:50:22.767931",
     "exception": false,
     "start_time": "2024-01-28T10:50:14.772551",
     "status": "completed"
    },
    "tags": []
   },
   "outputs": [
    {
     "name": "stderr",
     "output_type": "stream",
     "text": [
      "/opt/conda/lib/python3.10/site-packages/scipy/__init__.py:146: UserWarning: A NumPy version >=1.16.5 and <1.23.0 is required for this version of SciPy (detected version 1.24.3\n",
      "  warnings.warn(f\"A NumPy version >={np_minversion} and <{np_maxversion}\"\n"
     ]
    }
   ],
   "source": [
    "import numpy as np\n",
    "import pandas as pd\n",
    "import matplotlib.pyplot as plt\n",
    "import PIL\n",
    "from fastai.vision.all import *\n",
    "import torch\n",
    "import os\n",
    "import ast\n",
    "import cv2\n",
    "import tqdm\n",
    "from sklearn.model_selection import train_test_split as tts \n",
    "from torchvision import transforms, utils\n",
    "import gc"
   ]
  },
  {
   "cell_type": "code",
   "execution_count": 3,
   "id": "cade3266",
   "metadata": {
    "execution": {
     "iopub.execute_input": "2024-01-28T10:50:22.794412Z",
     "iopub.status.busy": "2024-01-28T10:50:22.794116Z",
     "iopub.status.idle": "2024-01-28T10:50:22.937301Z",
     "shell.execute_reply": "2024-01-28T10:50:22.936454Z"
    },
    "papermill": {
     "duration": 0.159169,
     "end_time": "2024-01-28T10:50:22.939310",
     "exception": false,
     "start_time": "2024-01-28T10:50:22.780141",
     "status": "completed"
    },
    "tags": []
   },
   "outputs": [
    {
     "data": {
      "text/plain": [
       "16"
      ]
     },
     "execution_count": 3,
     "metadata": {},
     "output_type": "execute_result"
    }
   ],
   "source": [
    "gc.collect()"
   ]
  },
  {
   "cell_type": "markdown",
   "id": "57cf54c4",
   "metadata": {
    "papermill": {
     "duration": 0.013248,
     "end_time": "2024-01-28T10:50:22.965483",
     "exception": false,
     "start_time": "2024-01-28T10:50:22.952235",
     "status": "completed"
    },
    "tags": []
   },
   "source": [
    "# Checking Split"
   ]
  },
  {
   "cell_type": "code",
   "execution_count": 4,
   "id": "57a700a3",
   "metadata": {
    "execution": {
     "iopub.execute_input": "2024-01-28T10:50:22.991092Z",
     "iopub.status.busy": "2024-01-28T10:50:22.990790Z",
     "iopub.status.idle": "2024-01-28T10:50:23.285913Z",
     "shell.execute_reply": "2024-01-28T10:50:23.284748Z"
    },
    "papermill": {
     "duration": 0.310258,
     "end_time": "2024-01-28T10:50:23.287911",
     "exception": false,
     "start_time": "2024-01-28T10:50:22.977653",
     "status": "completed"
    },
    "tags": []
   },
   "outputs": [
    {
     "name": "stdout",
     "output_type": "stream",
     "text": [
      "Number of training samples: 67692\n",
      "Number of test samples: 22688\n",
      "Split ratio: 25.10%\n"
     ]
    }
   ],
   "source": [
    "# Specify the paths to the training and test sets\n",
    "training_path = \"../input/fruits/fruits-360_dataset/fruits-360/Training\"\n",
    "test_path = \"../input/fruits/fruits-360_dataset/fruits-360/Test\"\n",
    "\n",
    "# Function to count the number of samples in a directory\n",
    "def count_samples(directory_path):\n",
    "    return sum([len(files) for _, _, files in os.walk(directory_path)])\n",
    "\n",
    "# Count samples in the training and test sets\n",
    "num_training_samples = count_samples(training_path)\n",
    "num_test_samples = count_samples(test_path)\n",
    "\n",
    "# Calculate the split ratio\n",
    "split_ratio = num_test_samples / (num_training_samples + num_test_samples)\n",
    "\n",
    "# Print the results\n",
    "print(f\"Number of training samples: {num_training_samples}\")\n",
    "print(f\"Number of test samples: {num_test_samples}\")\n",
    "print(f\"Split ratio: {split_ratio:.2%}\")\n"
   ]
  },
  {
   "cell_type": "markdown",
   "id": "acc8f150",
   "metadata": {
    "papermill": {
     "duration": 0.012171,
     "end_time": "2024-01-28T10:50:23.312343",
     "exception": false,
     "start_time": "2024-01-28T10:50:23.300172",
     "status": "completed"
    },
    "tags": []
   },
   "source": [
    "# Preparing Train, Test, Validation CSVs"
   ]
  },
  {
   "cell_type": "code",
   "execution_count": 5,
   "id": "267f551e",
   "metadata": {
    "execution": {
     "iopub.execute_input": "2024-01-28T10:50:23.337964Z",
     "iopub.status.busy": "2024-01-28T10:50:23.337534Z",
     "iopub.status.idle": "2024-01-28T10:50:25.604303Z",
     "shell.execute_reply": "2024-01-28T10:50:25.603170Z"
    },
    "papermill": {
     "duration": 2.28225,
     "end_time": "2024-01-28T10:50:25.606599",
     "exception": false,
     "start_time": "2024-01-28T10:50:23.324349",
     "status": "completed"
    },
    "tags": []
   },
   "outputs": [
    {
     "name": "stdout",
     "output_type": "stream",
     "text": [
      "CSV files for Training, Test, and Validation created\n",
      "Training split ratio: 70.00%\n",
      "Validation split ratio: 20.00%\n",
      "Testing split ratio: 10.00%\n"
     ]
    }
   ],
   "source": [
    "class DatasetCSVs:\n",
    "    \n",
    "    def __init__(self, base_dir):\n",
    "        self.base_dir = base_dir\n",
    "        self.load_data()\n",
    "        self.split_data()\n",
    "        self.add_features()\n",
    "        self.save_to_csv()\n",
    "\n",
    "    def load_data(self):\n",
    "        file_paths = []\n",
    "        labels = []\n",
    "\n",
    "        #iterating through the folders\n",
    "        for folder in [\"Training\", \"Test\"]:\n",
    "            folder_path = os.path.join(self.base_dir, folder)\n",
    "            \n",
    "            #iterating through class folders within Training & Testing folders\n",
    "            for class_folder in os.listdir(folder_path):\n",
    "                class_path = os.path.join(folder_path, class_folder)\n",
    "                \n",
    "                \n",
    "                #iterating through image files\n",
    "                for image_file in os.listdir(class_path):\n",
    "                    file_path = os.path.join(class_path, image_file)\n",
    "                    file_paths.append(file_path)\n",
    "                    \n",
    "                    #dropping everything after the first word in the labels, for example \"Apple Golden 2\", and \"Apple Granny Smith\" would just become labeled as \"apple\"\n",
    "                    base_label = class_folder.lower().split('_')[0].strip().split()[0]\n",
    "                    labels.append(base_label)\n",
    "                    \n",
    "        #Creating a dataframe with file paths and labels\n",
    "        self.data_frame = pd.DataFrame({'file_path': file_paths, 'label': labels})\n",
    "\n",
    "    def split_data(self):\n",
    "        \n",
    "        #Splitting the data in a 70-20-10 split for Training, Validation. and Testing\n",
    "        train_ratio = 0.7\n",
    "        validation_ratio = 0.2\n",
    "        test_ratio = 0.1\n",
    "\n",
    "        #splitting off training set\n",
    "        train_data_frame, test_and_val_data_frame = tts(self.data_frame, test_size=1 - train_ratio, random_state=42)\n",
    "        #splitting test and validation tests\n",
    "        validation_data_frame, test_data_frame = tts(test_and_val_data_frame, test_size=test_ratio / (test_ratio + validation_ratio), random_state=42)\n",
    "\n",
    "        self.train_data_frame = train_data_frame\n",
    "        self.validation_data_frame = validation_data_frame\n",
    "        self.test_data_frame = test_data_frame\n",
    "\n",
    "    #adding the features \"Count\" and \"Absolute path\"\n",
    "    def add_features(self):\n",
    "        for df in [self.train_data_frame, self.validation_data_frame, self.test_data_frame]:\n",
    "            df['count'] = df.groupby('label').cumcount() + 1\n",
    "            df['absolute_location'] = df['file_path'].apply(os.path.abspath)\n",
    "\n",
    "    #saving to csv files\n",
    "    def save_to_csv(self):\n",
    "        self.train_data_frame.to_csv(\"train_dataset.csv\", index=False)\n",
    "        self.test_data_frame.to_csv(\"test_dataset.csv\", index=False)\n",
    "        self.validation_data_frame.to_csv(\"validation_dataset.csv\", index=False)\n",
    "        print(\"CSV files for Training, Test, and Validation created\")\n",
    "\n",
    "        print(f\"Training split ratio: {len(self.train_data_frame) / len(self.data_frame):.2%}\")\n",
    "        print(f\"Validation split ratio: {len(self.validation_data_frame) / len(self.data_frame):.2%}\")\n",
    "        print(f\"Testing split ratio: {len(self.test_data_frame) / len(self.data_frame):.2%}\")\n",
    "\n",
    "# Specify the base directory of the dataset\n",
    "base_dir = \"../input/fruits/fruits-360_dataset/fruits-360\"\n",
    "\n",
    "# Create an instance of DatasetCSVs\n",
    "dataset_csvs = DatasetCSVs(base_dir)"
   ]
  },
  {
   "cell_type": "code",
   "execution_count": 6,
   "id": "36fb802c",
   "metadata": {
    "execution": {
     "iopub.execute_input": "2024-01-28T10:50:25.632766Z",
     "iopub.status.busy": "2024-01-28T10:50:25.632438Z",
     "iopub.status.idle": "2024-01-28T10:50:25.826595Z",
     "shell.execute_reply": "2024-01-28T10:50:25.825623Z"
    },
    "papermill": {
     "duration": 0.209764,
     "end_time": "2024-01-28T10:50:25.829036",
     "exception": false,
     "start_time": "2024-01-28T10:50:25.619272",
     "status": "completed"
    },
    "tags": []
   },
   "outputs": [
    {
     "data": {
      "text/html": [
       "<div>\n",
       "<style scoped>\n",
       "    .dataframe tbody tr th:only-of-type {\n",
       "        vertical-align: middle;\n",
       "    }\n",
       "\n",
       "    .dataframe tbody tr th {\n",
       "        vertical-align: top;\n",
       "    }\n",
       "\n",
       "    .dataframe thead th {\n",
       "        text-align: right;\n",
       "    }\n",
       "</style>\n",
       "<table border=\"1\" class=\"dataframe\">\n",
       "  <thead>\n",
       "    <tr style=\"text-align: right;\">\n",
       "      <th></th>\n",
       "      <th>file_path</th>\n",
       "      <th>label</th>\n",
       "      <th>count</th>\n",
       "      <th>absolute_location</th>\n",
       "    </tr>\n",
       "  </thead>\n",
       "  <tbody>\n",
       "    <tr>\n",
       "      <th>0</th>\n",
       "      <td>../input/fruits/fruits-360_dataset/fruits-360/Training/Potato Sweet/6_100.jpg</td>\n",
       "      <td>potato</td>\n",
       "      <td>1</td>\n",
       "      <td>/kaggle/input/fruits/fruits-360_dataset/fruits-360/Training/Potato Sweet/6_100.jpg</td>\n",
       "    </tr>\n",
       "    <tr>\n",
       "      <th>1</th>\n",
       "      <td>../input/fruits/fruits-360_dataset/fruits-360/Training/Grape White 4/127_100.jpg</td>\n",
       "      <td>grape</td>\n",
       "      <td>1</td>\n",
       "      <td>/kaggle/input/fruits/fruits-360_dataset/fruits-360/Training/Grape White 4/127_100.jpg</td>\n",
       "    </tr>\n",
       "    <tr>\n",
       "      <th>2</th>\n",
       "      <td>../input/fruits/fruits-360_dataset/fruits-360/Training/Tomato 1/46_100.jpg</td>\n",
       "      <td>tomato</td>\n",
       "      <td>1</td>\n",
       "      <td>/kaggle/input/fruits/fruits-360_dataset/fruits-360/Training/Tomato 1/46_100.jpg</td>\n",
       "    </tr>\n",
       "    <tr>\n",
       "      <th>3</th>\n",
       "      <td>../input/fruits/fruits-360_dataset/fruits-360/Test/Peach Flat/72_100.jpg</td>\n",
       "      <td>peach</td>\n",
       "      <td>1</td>\n",
       "      <td>/kaggle/input/fruits/fruits-360_dataset/fruits-360/Test/Peach Flat/72_100.jpg</td>\n",
       "    </tr>\n",
       "    <tr>\n",
       "      <th>4</th>\n",
       "      <td>../input/fruits/fruits-360_dataset/fruits-360/Training/Pear Red/125_100.jpg</td>\n",
       "      <td>pear</td>\n",
       "      <td>1</td>\n",
       "      <td>/kaggle/input/fruits/fruits-360_dataset/fruits-360/Training/Pear Red/125_100.jpg</td>\n",
       "    </tr>\n",
       "    <tr>\n",
       "      <th>...</th>\n",
       "      <td>...</td>\n",
       "      <td>...</td>\n",
       "      <td>...</td>\n",
       "      <td>...</td>\n",
       "    </tr>\n",
       "    <tr>\n",
       "      <th>63260</th>\n",
       "      <td>../input/fruits/fruits-360_dataset/fruits-360/Training/Pear Monster/285_100.jpg</td>\n",
       "      <td>pear</td>\n",
       "      <td>4751</td>\n",
       "      <td>/kaggle/input/fruits/fruits-360_dataset/fruits-360/Training/Pear Monster/285_100.jpg</td>\n",
       "    </tr>\n",
       "    <tr>\n",
       "      <th>63261</th>\n",
       "      <td>../input/fruits/fruits-360_dataset/fruits-360/Training/Cherry Rainier/r_145_100.jpg</td>\n",
       "      <td>cherry</td>\n",
       "      <td>3243</td>\n",
       "      <td>/kaggle/input/fruits/fruits-360_dataset/fruits-360/Training/Cherry Rainier/r_145_100.jpg</td>\n",
       "    </tr>\n",
       "    <tr>\n",
       "      <th>63262</th>\n",
       "      <td>../input/fruits/fruits-360_dataset/fruits-360/Test/Onion White/r_167_100.jpg</td>\n",
       "      <td>onion</td>\n",
       "      <td>1226</td>\n",
       "      <td>/kaggle/input/fruits/fruits-360_dataset/fruits-360/Test/Onion White/r_167_100.jpg</td>\n",
       "    </tr>\n",
       "    <tr>\n",
       "      <th>63263</th>\n",
       "      <td>../input/fruits/fruits-360_dataset/fruits-360/Training/Grapefruit White/107_100.jpg</td>\n",
       "      <td>grapefruit</td>\n",
       "      <td>910</td>\n",
       "      <td>/kaggle/input/fruits/fruits-360_dataset/fruits-360/Training/Grapefruit White/107_100.jpg</td>\n",
       "    </tr>\n",
       "    <tr>\n",
       "      <th>63264</th>\n",
       "      <td>../input/fruits/fruits-360_dataset/fruits-360/Training/Avocado ripe/r_13_100.jpg</td>\n",
       "      <td>avocado</td>\n",
       "      <td>836</td>\n",
       "      <td>/kaggle/input/fruits/fruits-360_dataset/fruits-360/Training/Avocado ripe/r_13_100.jpg</td>\n",
       "    </tr>\n",
       "  </tbody>\n",
       "</table>\n",
       "<p>63265 rows × 4 columns</p>\n",
       "</div>"
      ],
      "text/plain": [
       "                                                                                 file_path  \\\n",
       "0            ../input/fruits/fruits-360_dataset/fruits-360/Training/Potato Sweet/6_100.jpg   \n",
       "1         ../input/fruits/fruits-360_dataset/fruits-360/Training/Grape White 4/127_100.jpg   \n",
       "2               ../input/fruits/fruits-360_dataset/fruits-360/Training/Tomato 1/46_100.jpg   \n",
       "3                 ../input/fruits/fruits-360_dataset/fruits-360/Test/Peach Flat/72_100.jpg   \n",
       "4              ../input/fruits/fruits-360_dataset/fruits-360/Training/Pear Red/125_100.jpg   \n",
       "...                                                                                    ...   \n",
       "63260      ../input/fruits/fruits-360_dataset/fruits-360/Training/Pear Monster/285_100.jpg   \n",
       "63261  ../input/fruits/fruits-360_dataset/fruits-360/Training/Cherry Rainier/r_145_100.jpg   \n",
       "63262         ../input/fruits/fruits-360_dataset/fruits-360/Test/Onion White/r_167_100.jpg   \n",
       "63263  ../input/fruits/fruits-360_dataset/fruits-360/Training/Grapefruit White/107_100.jpg   \n",
       "63264     ../input/fruits/fruits-360_dataset/fruits-360/Training/Avocado ripe/r_13_100.jpg   \n",
       "\n",
       "            label  count  \\\n",
       "0          potato      1   \n",
       "1           grape      1   \n",
       "2          tomato      1   \n",
       "3           peach      1   \n",
       "4            pear      1   \n",
       "...           ...    ...   \n",
       "63260        pear   4751   \n",
       "63261      cherry   3243   \n",
       "63262       onion   1226   \n",
       "63263  grapefruit    910   \n",
       "63264     avocado    836   \n",
       "\n",
       "                                                                              absolute_location  \n",
       "0            /kaggle/input/fruits/fruits-360_dataset/fruits-360/Training/Potato Sweet/6_100.jpg  \n",
       "1         /kaggle/input/fruits/fruits-360_dataset/fruits-360/Training/Grape White 4/127_100.jpg  \n",
       "2               /kaggle/input/fruits/fruits-360_dataset/fruits-360/Training/Tomato 1/46_100.jpg  \n",
       "3                 /kaggle/input/fruits/fruits-360_dataset/fruits-360/Test/Peach Flat/72_100.jpg  \n",
       "4              /kaggle/input/fruits/fruits-360_dataset/fruits-360/Training/Pear Red/125_100.jpg  \n",
       "...                                                                                         ...  \n",
       "63260      /kaggle/input/fruits/fruits-360_dataset/fruits-360/Training/Pear Monster/285_100.jpg  \n",
       "63261  /kaggle/input/fruits/fruits-360_dataset/fruits-360/Training/Cherry Rainier/r_145_100.jpg  \n",
       "63262         /kaggle/input/fruits/fruits-360_dataset/fruits-360/Test/Onion White/r_167_100.jpg  \n",
       "63263  /kaggle/input/fruits/fruits-360_dataset/fruits-360/Training/Grapefruit White/107_100.jpg  \n",
       "63264     /kaggle/input/fruits/fruits-360_dataset/fruits-360/Training/Avocado ripe/r_13_100.jpg  \n",
       "\n",
       "[63265 rows x 4 columns]"
      ]
     },
     "execution_count": 6,
     "metadata": {},
     "output_type": "execute_result"
    }
   ],
   "source": [
    "pd.read_csv(\"train_dataset.csv\")"
   ]
  },
  {
   "cell_type": "markdown",
   "id": "440a5803",
   "metadata": {
    "papermill": {
     "duration": 0.012789,
     "end_time": "2024-01-28T10:50:25.855919",
     "exception": false,
     "start_time": "2024-01-28T10:50:25.843130",
     "status": "completed"
    },
    "tags": []
   },
   "source": [
    "# Count per label"
   ]
  },
  {
   "cell_type": "code",
   "execution_count": 7,
   "id": "7c1cf860",
   "metadata": {
    "execution": {
     "iopub.execute_input": "2024-01-28T10:50:25.923406Z",
     "iopub.status.busy": "2024-01-28T10:50:25.922736Z",
     "iopub.status.idle": "2024-01-28T10:50:25.961682Z",
     "shell.execute_reply": "2024-01-28T10:50:25.960739Z"
    },
    "papermill": {
     "duration": 0.055123,
     "end_time": "2024-01-28T10:50:25.963581",
     "exception": false,
     "start_time": "2024-01-28T10:50:25.908458",
     "status": "completed"
    },
    "tags": []
   },
   "outputs": [
    {
     "data": {
      "text/html": [
       "<div>\n",
       "<style scoped>\n",
       "    .dataframe tbody tr th:only-of-type {\n",
       "        vertical-align: middle;\n",
       "    }\n",
       "\n",
       "    .dataframe tbody tr th {\n",
       "        vertical-align: top;\n",
       "    }\n",
       "\n",
       "    .dataframe thead th {\n",
       "        text-align: right;\n",
       "    }\n",
       "</style>\n",
       "<table border=\"1\" class=\"dataframe\">\n",
       "  <thead>\n",
       "    <tr style=\"text-align: right;\">\n",
       "      <th></th>\n",
       "      <th>file_path</th>\n",
       "      <th>label</th>\n",
       "      <th>count</th>\n",
       "      <th>absolute_location</th>\n",
       "    </tr>\n",
       "  </thead>\n",
       "  <tbody>\n",
       "    <tr>\n",
       "      <th>0</th>\n",
       "      <td>../input/fruits/fruits-360_dataset/fruits-360/Training/Tomato 1/r_33_100.jpg</td>\n",
       "      <td>tomato</td>\n",
       "      <td>1</td>\n",
       "      <td>/kaggle/input/fruits/fruits-360_dataset/fruits-360/Training/Tomato 1/r_33_100.jpg</td>\n",
       "    </tr>\n",
       "    <tr>\n",
       "      <th>1</th>\n",
       "      <td>../input/fruits/fruits-360_dataset/fruits-360/Test/Maracuja/104_100.jpg</td>\n",
       "      <td>maracuja</td>\n",
       "      <td>1</td>\n",
       "      <td>/kaggle/input/fruits/fruits-360_dataset/fruits-360/Test/Maracuja/104_100.jpg</td>\n",
       "    </tr>\n",
       "    <tr>\n",
       "      <th>2</th>\n",
       "      <td>../input/fruits/fruits-360_dataset/fruits-360/Training/Limes/10_100.jpg</td>\n",
       "      <td>limes</td>\n",
       "      <td>1</td>\n",
       "      <td>/kaggle/input/fruits/fruits-360_dataset/fruits-360/Training/Limes/10_100.jpg</td>\n",
       "    </tr>\n",
       "    <tr>\n",
       "      <th>3</th>\n",
       "      <td>../input/fruits/fruits-360_dataset/fruits-360/Training/Apple Granny Smith/170_100.jpg</td>\n",
       "      <td>apple</td>\n",
       "      <td>1</td>\n",
       "      <td>/kaggle/input/fruits/fruits-360_dataset/fruits-360/Training/Apple Granny Smith/170_100.jpg</td>\n",
       "    </tr>\n",
       "    <tr>\n",
       "      <th>4</th>\n",
       "      <td>../input/fruits/fruits-360_dataset/fruits-360/Training/Granadilla/151_100.jpg</td>\n",
       "      <td>granadilla</td>\n",
       "      <td>1</td>\n",
       "      <td>/kaggle/input/fruits/fruits-360_dataset/fruits-360/Training/Granadilla/151_100.jpg</td>\n",
       "    </tr>\n",
       "    <tr>\n",
       "      <th>...</th>\n",
       "      <td>...</td>\n",
       "      <td>...</td>\n",
       "      <td>...</td>\n",
       "      <td>...</td>\n",
       "    </tr>\n",
       "    <tr>\n",
       "      <th>9034</th>\n",
       "      <td>../input/fruits/fruits-360_dataset/fruits-360/Training/Watermelon/89_100.jpg</td>\n",
       "      <td>watermelon</td>\n",
       "      <td>55</td>\n",
       "      <td>/kaggle/input/fruits/fruits-360_dataset/fruits-360/Training/Watermelon/89_100.jpg</td>\n",
       "    </tr>\n",
       "    <tr>\n",
       "      <th>9035</th>\n",
       "      <td>../input/fruits/fruits-360_dataset/fruits-360/Training/Tomato 1/r_147_100.jpg</td>\n",
       "      <td>tomato</td>\n",
       "      <td>675</td>\n",
       "      <td>/kaggle/input/fruits/fruits-360_dataset/fruits-360/Training/Tomato 1/r_147_100.jpg</td>\n",
       "    </tr>\n",
       "    <tr>\n",
       "      <th>9036</th>\n",
       "      <td>../input/fruits/fruits-360_dataset/fruits-360/Training/Pear Kaiser/97_100.jpg</td>\n",
       "      <td>pear</td>\n",
       "      <td>637</td>\n",
       "      <td>/kaggle/input/fruits/fruits-360_dataset/fruits-360/Training/Pear Kaiser/97_100.jpg</td>\n",
       "    </tr>\n",
       "    <tr>\n",
       "      <th>9037</th>\n",
       "      <td>../input/fruits/fruits-360_dataset/fruits-360/Training/Pomelo Sweetie/r_54_100.jpg</td>\n",
       "      <td>pomelo</td>\n",
       "      <td>69</td>\n",
       "      <td>/kaggle/input/fruits/fruits-360_dataset/fruits-360/Training/Pomelo Sweetie/r_54_100.jpg</td>\n",
       "    </tr>\n",
       "    <tr>\n",
       "      <th>9038</th>\n",
       "      <td>../input/fruits/fruits-360_dataset/fruits-360/Training/Quince/r_5_100.jpg</td>\n",
       "      <td>quince</td>\n",
       "      <td>60</td>\n",
       "      <td>/kaggle/input/fruits/fruits-360_dataset/fruits-360/Training/Quince/r_5_100.jpg</td>\n",
       "    </tr>\n",
       "  </tbody>\n",
       "</table>\n",
       "<p>9039 rows × 4 columns</p>\n",
       "</div>"
      ],
      "text/plain": [
       "                                                                                  file_path  \\\n",
       "0              ../input/fruits/fruits-360_dataset/fruits-360/Training/Tomato 1/r_33_100.jpg   \n",
       "1                   ../input/fruits/fruits-360_dataset/fruits-360/Test/Maracuja/104_100.jpg   \n",
       "2                   ../input/fruits/fruits-360_dataset/fruits-360/Training/Limes/10_100.jpg   \n",
       "3     ../input/fruits/fruits-360_dataset/fruits-360/Training/Apple Granny Smith/170_100.jpg   \n",
       "4             ../input/fruits/fruits-360_dataset/fruits-360/Training/Granadilla/151_100.jpg   \n",
       "...                                                                                     ...   \n",
       "9034           ../input/fruits/fruits-360_dataset/fruits-360/Training/Watermelon/89_100.jpg   \n",
       "9035          ../input/fruits/fruits-360_dataset/fruits-360/Training/Tomato 1/r_147_100.jpg   \n",
       "9036          ../input/fruits/fruits-360_dataset/fruits-360/Training/Pear Kaiser/97_100.jpg   \n",
       "9037     ../input/fruits/fruits-360_dataset/fruits-360/Training/Pomelo Sweetie/r_54_100.jpg   \n",
       "9038              ../input/fruits/fruits-360_dataset/fruits-360/Training/Quince/r_5_100.jpg   \n",
       "\n",
       "           label  count  \\\n",
       "0         tomato      1   \n",
       "1       maracuja      1   \n",
       "2          limes      1   \n",
       "3          apple      1   \n",
       "4     granadilla      1   \n",
       "...          ...    ...   \n",
       "9034  watermelon     55   \n",
       "9035      tomato    675   \n",
       "9036        pear    637   \n",
       "9037      pomelo     69   \n",
       "9038      quince     60   \n",
       "\n",
       "                                                                               absolute_location  \n",
       "0              /kaggle/input/fruits/fruits-360_dataset/fruits-360/Training/Tomato 1/r_33_100.jpg  \n",
       "1                   /kaggle/input/fruits/fruits-360_dataset/fruits-360/Test/Maracuja/104_100.jpg  \n",
       "2                   /kaggle/input/fruits/fruits-360_dataset/fruits-360/Training/Limes/10_100.jpg  \n",
       "3     /kaggle/input/fruits/fruits-360_dataset/fruits-360/Training/Apple Granny Smith/170_100.jpg  \n",
       "4             /kaggle/input/fruits/fruits-360_dataset/fruits-360/Training/Granadilla/151_100.jpg  \n",
       "...                                                                                          ...  \n",
       "9034           /kaggle/input/fruits/fruits-360_dataset/fruits-360/Training/Watermelon/89_100.jpg  \n",
       "9035          /kaggle/input/fruits/fruits-360_dataset/fruits-360/Training/Tomato 1/r_147_100.jpg  \n",
       "9036          /kaggle/input/fruits/fruits-360_dataset/fruits-360/Training/Pear Kaiser/97_100.jpg  \n",
       "9037     /kaggle/input/fruits/fruits-360_dataset/fruits-360/Training/Pomelo Sweetie/r_54_100.jpg  \n",
       "9038              /kaggle/input/fruits/fruits-360_dataset/fruits-360/Training/Quince/r_5_100.jpg  \n",
       "\n",
       "[9039 rows x 4 columns]"
      ]
     },
     "execution_count": 7,
     "metadata": {},
     "output_type": "execute_result"
    }
   ],
   "source": [
    "pd.read_csv(\"test_dataset.csv\")"
   ]
  },
  {
   "cell_type": "code",
   "execution_count": 8,
   "id": "8bc618fc",
   "metadata": {
    "execution": {
     "iopub.execute_input": "2024-01-28T10:50:25.993172Z",
     "iopub.status.busy": "2024-01-28T10:50:25.992906Z",
     "iopub.status.idle": "2024-01-28T10:50:26.053738Z",
     "shell.execute_reply": "2024-01-28T10:50:26.052818Z"
    },
    "papermill": {
     "duration": 0.077031,
     "end_time": "2024-01-28T10:50:26.055634",
     "exception": false,
     "start_time": "2024-01-28T10:50:25.978603",
     "status": "completed"
    },
    "tags": []
   },
   "outputs": [
    {
     "data": {
      "text/html": [
       "<div>\n",
       "<style scoped>\n",
       "    .dataframe tbody tr th:only-of-type {\n",
       "        vertical-align: middle;\n",
       "    }\n",
       "\n",
       "    .dataframe tbody tr th {\n",
       "        vertical-align: top;\n",
       "    }\n",
       "\n",
       "    .dataframe thead th {\n",
       "        text-align: right;\n",
       "    }\n",
       "</style>\n",
       "<table border=\"1\" class=\"dataframe\">\n",
       "  <thead>\n",
       "    <tr style=\"text-align: right;\">\n",
       "      <th></th>\n",
       "      <th>file_path</th>\n",
       "      <th>label</th>\n",
       "      <th>count</th>\n",
       "      <th>absolute_location</th>\n",
       "    </tr>\n",
       "  </thead>\n",
       "  <tbody>\n",
       "    <tr>\n",
       "      <th>0</th>\n",
       "      <td>../input/fruits/fruits-360_dataset/fruits-360/Training/Grapefruit White/r_197_100.jpg</td>\n",
       "      <td>grapefruit</td>\n",
       "      <td>1</td>\n",
       "      <td>/kaggle/input/fruits/fruits-360_dataset/fruits-360/Training/Grapefruit White/r_197_100.jpg</td>\n",
       "    </tr>\n",
       "    <tr>\n",
       "      <th>1</th>\n",
       "      <td>../input/fruits/fruits-360_dataset/fruits-360/Training/Maracuja/254_100.jpg</td>\n",
       "      <td>maracuja</td>\n",
       "      <td>1</td>\n",
       "      <td>/kaggle/input/fruits/fruits-360_dataset/fruits-360/Training/Maracuja/254_100.jpg</td>\n",
       "    </tr>\n",
       "    <tr>\n",
       "      <th>2</th>\n",
       "      <td>../input/fruits/fruits-360_dataset/fruits-360/Training/Grape White/133_100.jpg</td>\n",
       "      <td>grape</td>\n",
       "      <td>1</td>\n",
       "      <td>/kaggle/input/fruits/fruits-360_dataset/fruits-360/Training/Grape White/133_100.jpg</td>\n",
       "    </tr>\n",
       "    <tr>\n",
       "      <th>3</th>\n",
       "      <td>../input/fruits/fruits-360_dataset/fruits-360/Training/Grape White 2/150_100.jpg</td>\n",
       "      <td>grape</td>\n",
       "      <td>2</td>\n",
       "      <td>/kaggle/input/fruits/fruits-360_dataset/fruits-360/Training/Grape White 2/150_100.jpg</td>\n",
       "    </tr>\n",
       "    <tr>\n",
       "      <th>4</th>\n",
       "      <td>../input/fruits/fruits-360_dataset/fruits-360/Test/Cucumber Ripe 2/r_185_100.jpg</td>\n",
       "      <td>cucumber</td>\n",
       "      <td>1</td>\n",
       "      <td>/kaggle/input/fruits/fruits-360_dataset/fruits-360/Test/Cucumber Ripe 2/r_185_100.jpg</td>\n",
       "    </tr>\n",
       "    <tr>\n",
       "      <th>...</th>\n",
       "      <td>...</td>\n",
       "      <td>...</td>\n",
       "      <td>...</td>\n",
       "      <td>...</td>\n",
       "    </tr>\n",
       "    <tr>\n",
       "      <th>18071</th>\n",
       "      <td>../input/fruits/fruits-360_dataset/fruits-360/Test/Kohlrabi/17_100.jpg</td>\n",
       "      <td>kohlrabi</td>\n",
       "      <td>129</td>\n",
       "      <td>/kaggle/input/fruits/fruits-360_dataset/fruits-360/Test/Kohlrabi/17_100.jpg</td>\n",
       "    </tr>\n",
       "    <tr>\n",
       "      <th>18072</th>\n",
       "      <td>../input/fruits/fruits-360_dataset/fruits-360/Training/Onion Red Peeled/r2_62_100.jpg</td>\n",
       "      <td>onion</td>\n",
       "      <td>378</td>\n",
       "      <td>/kaggle/input/fruits/fruits-360_dataset/fruits-360/Training/Onion Red Peeled/r2_62_100.jpg</td>\n",
       "    </tr>\n",
       "    <tr>\n",
       "      <th>18073</th>\n",
       "      <td>../input/fruits/fruits-360_dataset/fruits-360/Training/Cocos/r_291_100.jpg</td>\n",
       "      <td>cocos</td>\n",
       "      <td>136</td>\n",
       "      <td>/kaggle/input/fruits/fruits-360_dataset/fruits-360/Training/Cocos/r_291_100.jpg</td>\n",
       "    </tr>\n",
       "    <tr>\n",
       "      <th>18074</th>\n",
       "      <td>../input/fruits/fruits-360_dataset/fruits-360/Training/Cocos/85_100.jpg</td>\n",
       "      <td>cocos</td>\n",
       "      <td>137</td>\n",
       "      <td>/kaggle/input/fruits/fruits-360_dataset/fruits-360/Training/Cocos/85_100.jpg</td>\n",
       "    </tr>\n",
       "    <tr>\n",
       "      <th>18075</th>\n",
       "      <td>../input/fruits/fruits-360_dataset/fruits-360/Test/Cherry Rainier/r2_143_100.jpg</td>\n",
       "      <td>cherry</td>\n",
       "      <td>891</td>\n",
       "      <td>/kaggle/input/fruits/fruits-360_dataset/fruits-360/Test/Cherry Rainier/r2_143_100.jpg</td>\n",
       "    </tr>\n",
       "  </tbody>\n",
       "</table>\n",
       "<p>18076 rows × 4 columns</p>\n",
       "</div>"
      ],
      "text/plain": [
       "                                                                                   file_path  \\\n",
       "0      ../input/fruits/fruits-360_dataset/fruits-360/Training/Grapefruit White/r_197_100.jpg   \n",
       "1                ../input/fruits/fruits-360_dataset/fruits-360/Training/Maracuja/254_100.jpg   \n",
       "2             ../input/fruits/fruits-360_dataset/fruits-360/Training/Grape White/133_100.jpg   \n",
       "3           ../input/fruits/fruits-360_dataset/fruits-360/Training/Grape White 2/150_100.jpg   \n",
       "4           ../input/fruits/fruits-360_dataset/fruits-360/Test/Cucumber Ripe 2/r_185_100.jpg   \n",
       "...                                                                                      ...   \n",
       "18071                 ../input/fruits/fruits-360_dataset/fruits-360/Test/Kohlrabi/17_100.jpg   \n",
       "18072  ../input/fruits/fruits-360_dataset/fruits-360/Training/Onion Red Peeled/r2_62_100.jpg   \n",
       "18073             ../input/fruits/fruits-360_dataset/fruits-360/Training/Cocos/r_291_100.jpg   \n",
       "18074                ../input/fruits/fruits-360_dataset/fruits-360/Training/Cocos/85_100.jpg   \n",
       "18075       ../input/fruits/fruits-360_dataset/fruits-360/Test/Cherry Rainier/r2_143_100.jpg   \n",
       "\n",
       "            label  count  \\\n",
       "0      grapefruit      1   \n",
       "1        maracuja      1   \n",
       "2           grape      1   \n",
       "3           grape      2   \n",
       "4        cucumber      1   \n",
       "...           ...    ...   \n",
       "18071    kohlrabi    129   \n",
       "18072       onion    378   \n",
       "18073       cocos    136   \n",
       "18074       cocos    137   \n",
       "18075      cherry    891   \n",
       "\n",
       "                                                                                absolute_location  \n",
       "0      /kaggle/input/fruits/fruits-360_dataset/fruits-360/Training/Grapefruit White/r_197_100.jpg  \n",
       "1                /kaggle/input/fruits/fruits-360_dataset/fruits-360/Training/Maracuja/254_100.jpg  \n",
       "2             /kaggle/input/fruits/fruits-360_dataset/fruits-360/Training/Grape White/133_100.jpg  \n",
       "3           /kaggle/input/fruits/fruits-360_dataset/fruits-360/Training/Grape White 2/150_100.jpg  \n",
       "4           /kaggle/input/fruits/fruits-360_dataset/fruits-360/Test/Cucumber Ripe 2/r_185_100.jpg  \n",
       "...                                                                                           ...  \n",
       "18071                 /kaggle/input/fruits/fruits-360_dataset/fruits-360/Test/Kohlrabi/17_100.jpg  \n",
       "18072  /kaggle/input/fruits/fruits-360_dataset/fruits-360/Training/Onion Red Peeled/r2_62_100.jpg  \n",
       "18073             /kaggle/input/fruits/fruits-360_dataset/fruits-360/Training/Cocos/r_291_100.jpg  \n",
       "18074                /kaggle/input/fruits/fruits-360_dataset/fruits-360/Training/Cocos/85_100.jpg  \n",
       "18075       /kaggle/input/fruits/fruits-360_dataset/fruits-360/Test/Cherry Rainier/r2_143_100.jpg  \n",
       "\n",
       "[18076 rows x 4 columns]"
      ]
     },
     "execution_count": 8,
     "metadata": {},
     "output_type": "execute_result"
    }
   ],
   "source": [
    "pd.read_csv(\"validation_dataset.csv\")"
   ]
  },
  {
   "cell_type": "code",
   "execution_count": 9,
   "id": "d5ede454",
   "metadata": {
    "execution": {
     "iopub.execute_input": "2024-01-28T10:50:26.083346Z",
     "iopub.status.busy": "2024-01-28T10:50:26.083089Z",
     "iopub.status.idle": "2024-01-28T10:50:26.235460Z",
     "shell.execute_reply": "2024-01-28T10:50:26.234518Z"
    },
    "papermill": {
     "duration": 0.1685,
     "end_time": "2024-01-28T10:50:26.237441",
     "exception": false,
     "start_time": "2024-01-28T10:50:26.068941",
     "status": "completed"
    },
    "tags": []
   },
   "outputs": [
    {
     "data": {
      "text/plain": [
       "0"
      ]
     },
     "execution_count": 9,
     "metadata": {},
     "output_type": "execute_result"
    }
   ],
   "source": [
    "gc.collect()"
   ]
  },
  {
   "cell_type": "markdown",
   "id": "0e5b5849",
   "metadata": {
    "papermill": {
     "duration": 0.013147,
     "end_time": "2024-01-28T10:50:26.264304",
     "exception": false,
     "start_time": "2024-01-28T10:50:26.251157",
     "status": "completed"
    },
    "tags": []
   },
   "source": [
    "# Visualizing some images"
   ]
  },
  {
   "cell_type": "code",
   "execution_count": 10,
   "id": "8795b226",
   "metadata": {
    "execution": {
     "iopub.execute_input": "2024-01-28T10:50:26.292659Z",
     "iopub.status.busy": "2024-01-28T10:50:26.291919Z",
     "iopub.status.idle": "2024-01-28T10:50:26.857028Z",
     "shell.execute_reply": "2024-01-28T10:50:26.855715Z"
    },
    "papermill": {
     "duration": 0.583088,
     "end_time": "2024-01-28T10:50:26.860758",
     "exception": false,
     "start_time": "2024-01-28T10:50:26.277670",
     "status": "completed"
    },
    "tags": []
   },
   "outputs": [
    {
     "data": {
      "image/png": "[encoded data removed]",
      "text/plain": [
       "<Figure size 640x480 with 1 Axes>"
      ]
     },
     "metadata": {},
     "output_type": "display_data"
    },
    {
     "data": {
      "image/png": "[encoded data removed]",
      "text/plain": [
       "<Figure size 640x480 with 1 Axes>"
      ]
     },
     "metadata": {},
     "output_type": "display_data"
    },
    {
     "data": {
      "image/png": "[encoded data removed]",
      "text/plain": [
       "<Figure size 640x480 with 1 Axes>"
      ]
     },
     "metadata": {},
     "output_type": "display_data"
    },
    {
     "data": {
      "image/png": "[encoded data removed]",
      "text/plain": [
       "<Figure size 640x480 with 1 Axes>"
      ]
     },
     "metadata": {},
     "output_type": "display_data"
    },
    {
     "data": {
      "image/png": "[encoded data removed]",
      "text/plain": [
       "<Figure size 640x480 with 1 Axes>"
      ]
     },
     "metadata": {},
     "output_type": "display_data"
    },
    {
     "data": {
      "image/png": "[encoded data removed]",
      "text/plain": [
       "<Figure size 640x480 with 1 Axes>"
      ]
     },
     "metadata": {},
     "output_type": "display_data"
    },
    {
     "data": {
      "image/png": "[encoded data removed]",
      "text/plain": [
       "<Figure size 640x480 with 1 Axes>"
      ]
     },
     "metadata": {},
     "output_type": "display_data"
    },
    {
     "data": {
      "image/png": "[encoded data removed]",
      "text/plain": [
       "<Figure size 640x480 with 1 Axes>"
      ]
     },
     "metadata": {},
     "output_type": "display_data"
    }
   ],
   "source": [
    "def visualize_images(data_frame, num_images=8):\n",
    "    for i in range(num_images):\n",
    "        file_path = data_frame['file_path'].iloc[i]\n",
    "        label = data_frame['label'].iloc[i]\n",
    "        image = Image.open(file_path)\n",
    "        \n",
    "        plt.subplot(1, num_images, i + 1)\n",
    "        plt.imshow(image)\n",
    "        plt.title(f\"Label: {label}\", y=-0.40)        \n",
    "        plt.axis('off')\n",
    "        plt.show()\n",
    "\n",
    "# Visualize images from the training set\n",
    "visualize_images(dataset_csvs.train_data_frame)"
   ]
  },
  {
   "cell_type": "markdown",
   "id": "22cefe93",
   "metadata": {
    "papermill": {
     "duration": 0.031969,
     "end_time": "2024-01-28T10:50:26.925935",
     "exception": false,
     "start_time": "2024-01-28T10:50:26.893966",
     "status": "completed"
    },
    "tags": []
   },
   "source": [
    "# Utility Function"
   ]
  },
  {
   "cell_type": "code",
   "execution_count": 11,
   "id": "ffb63b41",
   "metadata": {
    "execution": {
     "iopub.execute_input": "2024-01-28T10:50:26.985231Z",
     "iopub.status.busy": "2024-01-28T10:50:26.984939Z",
     "iopub.status.idle": "2024-01-28T10:50:26.990758Z",
     "shell.execute_reply": "2024-01-28T10:50:26.989863Z"
    },
    "papermill": {
     "duration": 0.033204,
     "end_time": "2024-01-28T10:50:26.992732",
     "exception": false,
     "start_time": "2024-01-28T10:50:26.959528",
     "status": "completed"
    },
    "tags": []
   },
   "outputs": [],
   "source": [
    "def load_and_process_csv(csv_path, target_size=(256, 256)):\n",
    "    df = pd.read_csv(csv_path)\n",
    "    \n",
    "    # Rename 'file_path' column to 'image'\n",
    "    df = df.rename(columns={\"file_path\": \"image\"})\n",
    "    \n",
    "    # Convert image paths to NumPy arrays using PIL and resize\n",
    "    df['image'] = df['image'].apply(lambda x: np.array(Image.open(x).resize(target_size)))\n",
    "    \n",
    "    # You may need to further preprocess or normalize the images depending on your requirements\n",
    "    \n",
    "    return df[['image', 'label']]\n"
   ]
  },
  {
   "cell_type": "markdown",
   "id": "492d3a65",
   "metadata": {
    "papermill": {
     "duration": 0.015494,
     "end_time": "2024-01-28T10:50:27.023457",
     "exception": false,
     "start_time": "2024-01-28T10:50:27.007963",
     "status": "completed"
    },
    "tags": []
   },
   "source": [
    "# Training Data"
   ]
  },
  {
   "cell_type": "code",
   "execution_count": 12,
   "id": "9685ffb7",
   "metadata": {
    "execution": {
     "iopub.execute_input": "2024-01-28T10:50:27.055293Z",
     "iopub.status.busy": "2024-01-28T10:50:27.054546Z",
     "iopub.status.idle": "2024-01-28T10:59:49.512044Z",
     "shell.execute_reply": "2024-01-28T10:59:49.511165Z"
    },
    "papermill": {
     "duration": 562.475743,
     "end_time": "2024-01-28T10:59:49.514392",
     "exception": false,
     "start_time": "2024-01-28T10:50:27.038649",
     "status": "completed"
    },
    "tags": []
   },
   "outputs": [],
   "source": [
    "def data(train_csv_path, validation_csv_path, test_csv_path):\n",
    "    # Load and process training CSV\n",
    "    df_train = load_and_process_csv(train_csv_path)\n",
    "    \n",
    "    # Load and process validation CSV\n",
    "    df_validation = load_and_process_csv(validation_csv_path)\n",
    "    \n",
    "    # Load and process test CSV\n",
    "    df_test = load_and_process_csv(test_csv_path)\n",
    "    \n",
    "    return df_train, df_validation, df_test\n",
    "\n",
    "# Specify the file paths for the CSVs\n",
    "train_csv_path = \"train_dataset.csv\"\n",
    "validation_csv_path = \"validation_dataset.csv\"\n",
    "test_csv_path = \"test_dataset.csv\"\n",
    "\n",
    "# Call the data function\n",
    "df_train, df_validation, df_test = data(train_csv_path, validation_csv_path, test_csv_path)\n",
    "\n"
   ]
  },
  {
   "cell_type": "code",
   "execution_count": 13,
   "id": "3fad42e3",
   "metadata": {
    "execution": {
     "iopub.execute_input": "2024-01-28T10:59:49.546478Z",
     "iopub.status.busy": "2024-01-28T10:59:49.546201Z",
     "iopub.status.idle": "2024-01-28T11:00:13.173356Z",
     "shell.execute_reply": "2024-01-28T11:00:13.172398Z"
    },
    "papermill": {
     "duration": 23.645434,
     "end_time": "2024-01-28T11:00:13.175608",
     "exception": false,
     "start_time": "2024-01-28T10:59:49.530174",
     "status": "completed"
    },
    "tags": []
   },
   "outputs": [
    {
     "name": "stdout",
     "output_type": "stream",
     "text": [
      "Training DataFrame:\n",
      "                                                                                                                                                                                                                                                                                                                                                                                                                                                                                                                                                                                                                     image  \\\n",
      "0  [[[255, 255, 255], [255, 255, 255], [255, 255, 255], [255, 255, 255], [255, 255, 255], [255, 255, 255], [255, 255, 255], [255, 255, 255], [255, 255, 255], [255, 255, 255], [255, 255, 255], [255, 255, 255], [255, 255, 255], [255, 255, 255], [255, 255, 255], [255, 255, 255], [255, 255, 255], [255, 255, 255], [255, 255, 255], [255, 255, 255], [255, 255, 255], [255, 255, 255], [255, 255, 255], [255, 255, 255], [255, 255, 255], [255, 255, 255], [255, 255, 255], [255, 255, 255], [255, 255, 255], [255, 255, 255], [255, 255, 255], [255, 255, 255], [255, 255, 255], [255, 255, 255], [255, 255, 255],...   \n",
      "1  [[[255, 255, 255], [255, 255, 255], [255, 255, 255], [255, 255, 255], [255, 255, 255], [255, 255, 255], [255, 255, 255], [255, 255, 255], [255, 255, 255], [255, 255, 255], [255, 255, 255], [255, 255, 255], [255, 255, 255], [255, 255, 255], [255, 255, 255], [255, 255, 255], [255, 255, 255], [255, 255, 255], [255, 255, 255], [255, 255, 255], [255, 255, 255], [255, 255, 255], [255, 255, 255], [255, 255, 255], [255, 255, 255], [255, 255, 255], [255, 255, 255], [255, 255, 255], [255, 255, 255], [255, 255, 255], [255, 255, 255], [255, 255, 255], [255, 255, 255], [255, 255, 255], [255, 255, 255],...   \n",
      "2  [[[255, 255, 255], [255, 255, 255], [255, 255, 255], [255, 255, 255], [255, 255, 255], [255, 255, 255], [255, 255, 255], [255, 255, 255], [255, 255, 255], [255, 255, 255], [255, 255, 255], [255, 255, 255], [255, 255, 255], [255, 255, 255], [255, 255, 255], [255, 255, 255], [255, 255, 255], [255, 255, 255], [255, 255, 255], [255, 255, 255], [255, 255, 255], [255, 255, 255], [255, 255, 255], [255, 255, 255], [255, 255, 255], [255, 255, 255], [255, 255, 255], [255, 255, 255], [255, 255, 255], [255, 255, 255], [255, 255, 255], [255, 255, 255], [255, 255, 255], [255, 255, 255], [255, 255, 255],...   \n",
      "3  [[[255, 255, 255], [255, 255, 255], [255, 255, 255], [255, 255, 255], [255, 255, 255], [255, 255, 255], [255, 255, 255], [255, 255, 255], [255, 255, 255], [255, 255, 255], [255, 255, 255], [255, 255, 255], [255, 255, 255], [255, 255, 255], [255, 255, 255], [255, 255, 255], [255, 255, 255], [255, 255, 255], [255, 255, 255], [255, 255, 255], [255, 255, 255], [255, 255, 255], [255, 255, 255], [255, 255, 255], [255, 255, 255], [255, 255, 255], [255, 255, 255], [255, 255, 255], [255, 255, 255], [255, 255, 255], [255, 255, 255], [255, 255, 255], [255, 255, 255], [255, 255, 255], [255, 255, 255],...   \n",
      "4  [[[255, 255, 255], [255, 255, 255], [255, 255, 255], [255, 255, 255], [255, 255, 255], [255, 255, 255], [255, 255, 255], [255, 255, 255], [255, 255, 255], [255, 255, 255], [255, 255, 255], [255, 255, 255], [255, 255, 255], [255, 255, 255], [255, 255, 255], [255, 255, 255], [255, 255, 255], [255, 255, 255], [255, 255, 255], [255, 255, 255], [255, 255, 255], [255, 255, 255], [255, 255, 255], [255, 255, 255], [255, 255, 255], [255, 255, 255], [255, 255, 255], [255, 255, 255], [255, 255, 255], [255, 255, 255], [255, 255, 255], [255, 255, 255], [255, 255, 255], [255, 255, 255], [255, 255, 255],...   \n",
      "\n",
      "    label  \n",
      "0  potato  \n",
      "1   grape  \n",
      "2  tomato  \n",
      "3   peach  \n",
      "4    pear  \n",
      "\n",
      "Validation DataFrame:\n",
      "                                                                                                                                                                                                                                                                                                                                                                                                                                                                                                                                                                                                                     image  \\\n",
      "0  [[[254, 253, 249], [254, 253, 249], [254, 253, 249], [255, 254, 250], [255, 254, 250], [254, 254, 251], [254, 254, 252], [254, 254, 252], [255, 255, 253], [255, 255, 253], [255, 255, 254], [255, 255, 255], [255, 255, 255], [254, 254, 255], [254, 254, 255], [254, 253, 255], [254, 253, 255], [254, 253, 255], [253, 252, 255], [253, 252, 255], [253, 253, 255], [254, 254, 255], [254, 254, 255], [254, 254, 255], [254, 254, 255], [254, 254, 255], [254, 254, 254], [254, 254, 254], [254, 254, 254], [254, 254, 254], [254, 254, 254], [254, 254, 255], [254, 254, 255], [254, 254, 255], [254, 254, 255],...   \n",
      "1  [[[255, 255, 255], [255, 255, 255], [255, 255, 255], [255, 255, 255], [255, 255, 255], [255, 255, 255], [255, 255, 255], [255, 255, 255], [255, 255, 255], [255, 255, 255], [255, 255, 255], [255, 255, 255], [255, 255, 255], [255, 255, 255], [255, 255, 255], [255, 255, 255], [255, 255, 255], [255, 255, 255], [255, 255, 255], [255, 255, 255], [255, 255, 255], [255, 255, 255], [255, 255, 255], [255, 255, 255], [255, 255, 255], [255, 255, 255], [255, 255, 255], [255, 255, 255], [255, 255, 255], [255, 255, 255], [255, 255, 255], [255, 255, 255], [255, 255, 255], [255, 255, 255], [255, 255, 255],...   \n",
      "2  [[[255, 255, 255], [255, 255, 255], [255, 255, 255], [255, 255, 255], [255, 255, 255], [255, 255, 255], [255, 255, 255], [255, 255, 255], [255, 255, 255], [255, 255, 255], [255, 255, 255], [255, 255, 255], [255, 255, 255], [255, 255, 255], [255, 255, 255], [255, 255, 255], [255, 255, 255], [255, 255, 255], [255, 255, 255], [255, 255, 255], [255, 255, 255], [255, 255, 255], [255, 255, 255], [255, 255, 255], [255, 255, 255], [255, 255, 255], [255, 255, 255], [255, 255, 255], [255, 255, 255], [255, 255, 255], [255, 255, 255], [255, 255, 255], [255, 255, 255], [255, 255, 255], [255, 255, 255],...   \n",
      "3  [[[255, 255, 255], [255, 255, 255], [255, 255, 255], [255, 255, 255], [255, 255, 255], [255, 255, 255], [255, 255, 255], [255, 255, 255], [255, 255, 255], [255, 255, 255], [255, 255, 255], [255, 255, 255], [255, 255, 255], [255, 255, 255], [255, 255, 255], [255, 255, 255], [255, 255, 255], [255, 255, 255], [255, 255, 255], [255, 255, 255], [255, 255, 254], [255, 255, 253], [255, 255, 253], [255, 255, 253], [255, 255, 253], [255, 255, 253], [255, 255, 253], [255, 255, 253], [255, 255, 253], [255, 255, 253], [255, 255, 253], [255, 255, 253], [255, 255, 253], [255, 255, 253], [255, 255, 253],...   \n",
      "4  [[[255, 255, 255], [255, 255, 255], [255, 255, 255], [255, 255, 255], [255, 255, 255], [255, 255, 255], [255, 255, 255], [255, 255, 255], [255, 255, 255], [255, 255, 255], [255, 255, 255], [255, 255, 255], [255, 255, 255], [255, 255, 255], [255, 255, 255], [255, 255, 255], [255, 255, 255], [255, 255, 255], [255, 255, 255], [255, 255, 255], [255, 255, 255], [255, 255, 255], [255, 255, 255], [255, 255, 255], [255, 255, 255], [255, 255, 255], [255, 255, 255], [255, 255, 255], [255, 255, 255], [255, 255, 255], [255, 255, 255], [255, 255, 255], [255, 255, 255], [255, 255, 255], [255, 255, 255],...   \n",
      "\n",
      "        label  \n",
      "0  grapefruit  \n",
      "1    maracuja  \n",
      "2       grape  \n",
      "3       grape  \n",
      "4    cucumber  \n",
      "\n",
      "Testing DataFrame:\n",
      "                                                                                                                                                                                                                                                                                                                                                                                                                                                                                                                                                                                                                     image  \\\n",
      "0  [[[255, 254, 255], [255, 254, 255], [255, 254, 255], [255, 254, 255], [255, 254, 255], [255, 255, 253], [254, 255, 253], [253, 255, 254], [251, 255, 255], [251, 255, 255], [251, 255, 255], [251, 255, 255], [251, 255, 255], [251, 255, 255], [251, 255, 255], [251, 255, 255], [252, 255, 255], [253, 255, 255], [254, 255, 255], [255, 255, 255], [255, 255, 253], [255, 255, 251], [255, 255, 250], [255, 255, 250], [255, 255, 250], [255, 255, 250], [255, 255, 251], [255, 255, 251], [255, 255, 252], [255, 255, 253], [255, 255, 254], [255, 254, 255], [255, 254, 255], [254, 255, 255], [254, 255, 255],...   \n",
      "1  [[[255, 255, 255], [255, 255, 255], [255, 255, 255], [255, 255, 255], [255, 255, 255], [255, 255, 255], [255, 255, 255], [255, 255, 255], [255, 255, 255], [255, 255, 255], [255, 255, 255], [255, 255, 255], [255, 255, 255], [255, 255, 255], [255, 255, 255], [255, 255, 255], [255, 255, 255], [255, 255, 255], [255, 255, 255], [255, 255, 255], [255, 255, 255], [255, 255, 255], [255, 255, 255], [255, 255, 255], [255, 255, 255], [255, 255, 255], [255, 255, 255], [255, 255, 255], [255, 255, 255], [255, 255, 255], [255, 255, 255], [255, 255, 255], [255, 255, 255], [255, 255, 255], [255, 255, 255],...   \n",
      "2  [[[255, 255, 255], [255, 255, 255], [255, 255, 255], [255, 255, 255], [255, 255, 255], [255, 255, 255], [255, 255, 255], [255, 255, 255], [255, 255, 255], [255, 255, 255], [255, 255, 255], [255, 255, 255], [255, 255, 255], [255, 255, 255], [255, 255, 255], [255, 255, 255], [255, 255, 255], [255, 255, 255], [255, 255, 255], [255, 255, 255], [255, 255, 255], [255, 255, 255], [255, 255, 255], [255, 255, 255], [255, 255, 255], [255, 255, 255], [255, 255, 255], [255, 255, 255], [255, 255, 255], [255, 255, 255], [255, 255, 255], [255, 255, 255], [255, 255, 255], [255, 255, 255], [255, 255, 255],...   \n",
      "3  [[[255, 255, 255], [255, 255, 255], [255, 255, 255], [255, 255, 255], [255, 255, 255], [255, 255, 255], [255, 255, 255], [255, 255, 255], [255, 255, 255], [255, 255, 255], [255, 255, 255], [255, 255, 255], [255, 255, 255], [255, 255, 255], [255, 255, 255], [255, 255, 255], [255, 255, 255], [255, 255, 255], [255, 255, 255], [255, 255, 255], [255, 255, 255], [255, 255, 255], [255, 255, 255], [255, 255, 255], [255, 255, 255], [255, 255, 255], [255, 255, 255], [255, 255, 255], [255, 255, 255], [255, 255, 255], [255, 255, 255], [255, 255, 255], [255, 255, 255], [255, 255, 255], [255, 255, 255],...   \n",
      "4  [[[255, 255, 255], [255, 255, 255], [255, 255, 255], [255, 255, 255], [255, 255, 255], [255, 255, 255], [255, 255, 255], [255, 255, 255], [255, 255, 255], [255, 255, 255], [255, 255, 255], [255, 255, 255], [255, 255, 255], [255, 255, 255], [255, 255, 255], [255, 255, 255], [255, 255, 255], [255, 255, 255], [255, 255, 255], [255, 255, 255], [255, 255, 255], [255, 255, 255], [255, 255, 255], [255, 255, 255], [255, 255, 255], [255, 255, 255], [255, 255, 255], [255, 255, 255], [255, 255, 255], [255, 255, 255], [255, 255, 255], [255, 255, 255], [255, 255, 255], [255, 255, 255], [255, 255, 255],...   \n",
      "\n",
      "        label  \n",
      "0      tomato  \n",
      "1    maracuja  \n",
      "2       limes  \n",
      "3       apple  \n",
      "4  granadilla  \n"
     ]
    }
   ],
   "source": [
    "# Display the first few rows of each DataFrame\n",
    "print(\"Training DataFrame:\")\n",
    "print(df_train.head())\n",
    "\n",
    "print(\"\\nValidation DataFrame:\")\n",
    "print(df_validation.head())\n",
    "\n",
    "print(\"\\nTesting DataFrame:\")\n",
    "print(df_test.head())"
   ]
  },
  {
   "cell_type": "code",
   "execution_count": 14,
   "id": "a1a94403",
   "metadata": {
    "execution": {
     "iopub.execute_input": "2024-01-28T11:00:13.209316Z",
     "iopub.status.busy": "2024-01-28T11:00:13.208599Z",
     "iopub.status.idle": "2024-01-28T11:00:13.213539Z",
     "shell.execute_reply": "2024-01-28T11:00:13.212738Z"
    },
    "papermill": {
     "duration": 0.023301,
     "end_time": "2024-01-28T11:00:13.215442",
     "exception": false,
     "start_time": "2024-01-28T11:00:13.192141",
     "status": "completed"
    },
    "tags": []
   },
   "outputs": [],
   "source": [
    "X_train, y_train = df_train[\"image\"], df_train[\"label\"]\n",
    "X_validation, y_validation = df_validation[\"image\"], df_validation[\"label\"]\n",
    "X_test, y_test = df_test[\"image\"], df_test[\"label\"]"
   ]
  },
  {
   "cell_type": "code",
   "execution_count": 15,
   "id": "3100eed7",
   "metadata": {
    "execution": {
     "iopub.execute_input": "2024-01-28T11:00:13.247145Z",
     "iopub.status.busy": "2024-01-28T11:00:13.246898Z",
     "iopub.status.idle": "2024-01-28T11:00:13.253916Z",
     "shell.execute_reply": "2024-01-28T11:00:13.253236Z"
    },
    "papermill": {
     "duration": 0.024972,
     "end_time": "2024-01-28T11:00:13.255775",
     "exception": false,
     "start_time": "2024-01-28T11:00:13.230803",
     "status": "completed"
    },
    "tags": []
   },
   "outputs": [],
   "source": [
    "dftrain = pd.DataFrame({\"image\": X_train, \"label\": y_train})\n",
    "dftest = pd.DataFrame({\"image\": X_test, \"label\": y_test})\n",
    "dfvalidation = pd.DataFrame({\"image\": X_validation, \"label\": y_validation})"
   ]
  },
  {
   "cell_type": "code",
   "execution_count": 16,
   "id": "9bcedb47",
   "metadata": {
    "execution": {
     "iopub.execute_input": "2024-01-28T11:00:13.288173Z",
     "iopub.status.busy": "2024-01-28T11:00:13.287656Z",
     "iopub.status.idle": "2024-01-28T11:00:28.944783Z",
     "shell.execute_reply": "2024-01-28T11:00:28.943889Z"
    },
    "papermill": {
     "duration": 15.675659,
     "end_time": "2024-01-28T11:00:28.947040",
     "exception": false,
     "start_time": "2024-01-28T11:00:13.271381",
     "status": "completed"
    },
    "tags": []
   },
   "outputs": [
    {
     "data": {
      "text/html": [
       "<div>\n",
       "<style scoped>\n",
       "    .dataframe tbody tr th:only-of-type {\n",
       "        vertical-align: middle;\n",
       "    }\n",
       "\n",
       "    .dataframe tbody tr th {\n",
       "        vertical-align: top;\n",
       "    }\n",
       "\n",
       "    .dataframe thead th {\n",
       "        text-align: right;\n",
       "    }\n",
       "</style>\n",
       "<table border=\"1\" class=\"dataframe\">\n",
       "  <thead>\n",
       "    <tr style=\"text-align: right;\">\n",
       "      <th></th>\n",
       "      <th>image</th>\n",
       "      <th>label</th>\n",
       "    </tr>\n",
       "  </thead>\n",
       "  <tbody>\n",
       "    <tr>\n",
       "      <th>0</th>\n",
       "      <td>[[[255, 255, 255], [255, 255, 255], [255, 255, 255], [255, 255, 255], [255, 255, 255], [255, 255, 255], [255, 255, 255], [255, 255, 255], [255, 255, 255], [255, 255, 255], [255, 255, 255], [255, 255, 255], [255, 255, 255], [255, 255, 255], [255, 255, 255], [255, 255, 255], [255, 255, 255], [255, 255, 255], [255, 255, 255], [255, 255, 255], [255, 255, 255], [255, 255, 255], [255, 255, 255], [255, 255, 255], [255, 255, 255], [255, 255, 255], [255, 255, 255], [255, 255, 255], [255, 255, 255], [255, 255, 255], [255, 255, 255], [255, 255, 255], [255, 255, 255], [255, 255, 255], [255, 255, 255],...</td>\n",
       "      <td>potato</td>\n",
       "    </tr>\n",
       "    <tr>\n",
       "      <th>1</th>\n",
       "      <td>[[[255, 255, 255], [255, 255, 255], [255, 255, 255], [255, 255, 255], [255, 255, 255], [255, 255, 255], [255, 255, 255], [255, 255, 255], [255, 255, 255], [255, 255, 255], [255, 255, 255], [255, 255, 255], [255, 255, 255], [255, 255, 255], [255, 255, 255], [255, 255, 255], [255, 255, 255], [255, 255, 255], [255, 255, 255], [255, 255, 255], [255, 255, 255], [255, 255, 255], [255, 255, 255], [255, 255, 255], [255, 255, 255], [255, 255, 255], [255, 255, 255], [255, 255, 255], [255, 255, 255], [255, 255, 255], [255, 255, 255], [255, 255, 255], [255, 255, 255], [255, 255, 255], [255, 255, 255],...</td>\n",
       "      <td>grape</td>\n",
       "    </tr>\n",
       "    <tr>\n",
       "      <th>2</th>\n",
       "      <td>[[[255, 255, 255], [255, 255, 255], [255, 255, 255], [255, 255, 255], [255, 255, 255], [255, 255, 255], [255, 255, 255], [255, 255, 255], [255, 255, 255], [255, 255, 255], [255, 255, 255], [255, 255, 255], [255, 255, 255], [255, 255, 255], [255, 255, 255], [255, 255, 255], [255, 255, 255], [255, 255, 255], [255, 255, 255], [255, 255, 255], [255, 255, 255], [255, 255, 255], [255, 255, 255], [255, 255, 255], [255, 255, 255], [255, 255, 255], [255, 255, 255], [255, 255, 255], [255, 255, 255], [255, 255, 255], [255, 255, 255], [255, 255, 255], [255, 255, 255], [255, 255, 255], [255, 255, 255],...</td>\n",
       "      <td>tomato</td>\n",
       "    </tr>\n",
       "    <tr>\n",
       "      <th>3</th>\n",
       "      <td>[[[255, 255, 255], [255, 255, 255], [255, 255, 255], [255, 255, 255], [255, 255, 255], [255, 255, 255], [255, 255, 255], [255, 255, 255], [255, 255, 255], [255, 255, 255], [255, 255, 255], [255, 255, 255], [255, 255, 255], [255, 255, 255], [255, 255, 255], [255, 255, 255], [255, 255, 255], [255, 255, 255], [255, 255, 255], [255, 255, 255], [255, 255, 255], [255, 255, 255], [255, 255, 255], [255, 255, 255], [255, 255, 255], [255, 255, 255], [255, 255, 255], [255, 255, 255], [255, 255, 255], [255, 255, 255], [255, 255, 255], [255, 255, 255], [255, 255, 255], [255, 255, 255], [255, 255, 255],...</td>\n",
       "      <td>peach</td>\n",
       "    </tr>\n",
       "    <tr>\n",
       "      <th>4</th>\n",
       "      <td>[[[255, 255, 255], [255, 255, 255], [255, 255, 255], [255, 255, 255], [255, 255, 255], [255, 255, 255], [255, 255, 255], [255, 255, 255], [255, 255, 255], [255, 255, 255], [255, 255, 255], [255, 255, 255], [255, 255, 255], [255, 255, 255], [255, 255, 255], [255, 255, 255], [255, 255, 255], [255, 255, 255], [255, 255, 255], [255, 255, 255], [255, 255, 255], [255, 255, 255], [255, 255, 255], [255, 255, 255], [255, 255, 255], [255, 255, 255], [255, 255, 255], [255, 255, 255], [255, 255, 255], [255, 255, 255], [255, 255, 255], [255, 255, 255], [255, 255, 255], [255, 255, 255], [255, 255, 255],...</td>\n",
       "      <td>pear</td>\n",
       "    </tr>\n",
       "  </tbody>\n",
       "</table>\n",
       "</div>"
      ],
      "text/plain": [
       "                                                                                                                                                                                                                                                                                                                                                                                                                                                                                                                                                                                                                     image  \\\n",
       "0  [[[255, 255, 255], [255, 255, 255], [255, 255, 255], [255, 255, 255], [255, 255, 255], [255, 255, 255], [255, 255, 255], [255, 255, 255], [255, 255, 255], [255, 255, 255], [255, 255, 255], [255, 255, 255], [255, 255, 255], [255, 255, 255], [255, 255, 255], [255, 255, 255], [255, 255, 255], [255, 255, 255], [255, 255, 255], [255, 255, 255], [255, 255, 255], [255, 255, 255], [255, 255, 255], [255, 255, 255], [255, 255, 255], [255, 255, 255], [255, 255, 255], [255, 255, 255], [255, 255, 255], [255, 255, 255], [255, 255, 255], [255, 255, 255], [255, 255, 255], [255, 255, 255], [255, 255, 255],...   \n",
       "1  [[[255, 255, 255], [255, 255, 255], [255, 255, 255], [255, 255, 255], [255, 255, 255], [255, 255, 255], [255, 255, 255], [255, 255, 255], [255, 255, 255], [255, 255, 255], [255, 255, 255], [255, 255, 255], [255, 255, 255], [255, 255, 255], [255, 255, 255], [255, 255, 255], [255, 255, 255], [255, 255, 255], [255, 255, 255], [255, 255, 255], [255, 255, 255], [255, 255, 255], [255, 255, 255], [255, 255, 255], [255, 255, 255], [255, 255, 255], [255, 255, 255], [255, 255, 255], [255, 255, 255], [255, 255, 255], [255, 255, 255], [255, 255, 255], [255, 255, 255], [255, 255, 255], [255, 255, 255],...   \n",
       "2  [[[255, 255, 255], [255, 255, 255], [255, 255, 255], [255, 255, 255], [255, 255, 255], [255, 255, 255], [255, 255, 255], [255, 255, 255], [255, 255, 255], [255, 255, 255], [255, 255, 255], [255, 255, 255], [255, 255, 255], [255, 255, 255], [255, 255, 255], [255, 255, 255], [255, 255, 255], [255, 255, 255], [255, 255, 255], [255, 255, 255], [255, 255, 255], [255, 255, 255], [255, 255, 255], [255, 255, 255], [255, 255, 255], [255, 255, 255], [255, 255, 255], [255, 255, 255], [255, 255, 255], [255, 255, 255], [255, 255, 255], [255, 255, 255], [255, 255, 255], [255, 255, 255], [255, 255, 255],...   \n",
       "3  [[[255, 255, 255], [255, 255, 255], [255, 255, 255], [255, 255, 255], [255, 255, 255], [255, 255, 255], [255, 255, 255], [255, 255, 255], [255, 255, 255], [255, 255, 255], [255, 255, 255], [255, 255, 255], [255, 255, 255], [255, 255, 255], [255, 255, 255], [255, 255, 255], [255, 255, 255], [255, 255, 255], [255, 255, 255], [255, 255, 255], [255, 255, 255], [255, 255, 255], [255, 255, 255], [255, 255, 255], [255, 255, 255], [255, 255, 255], [255, 255, 255], [255, 255, 255], [255, 255, 255], [255, 255, 255], [255, 255, 255], [255, 255, 255], [255, 255, 255], [255, 255, 255], [255, 255, 255],...   \n",
       "4  [[[255, 255, 255], [255, 255, 255], [255, 255, 255], [255, 255, 255], [255, 255, 255], [255, 255, 255], [255, 255, 255], [255, 255, 255], [255, 255, 255], [255, 255, 255], [255, 255, 255], [255, 255, 255], [255, 255, 255], [255, 255, 255], [255, 255, 255], [255, 255, 255], [255, 255, 255], [255, 255, 255], [255, 255, 255], [255, 255, 255], [255, 255, 255], [255, 255, 255], [255, 255, 255], [255, 255, 255], [255, 255, 255], [255, 255, 255], [255, 255, 255], [255, 255, 255], [255, 255, 255], [255, 255, 255], [255, 255, 255], [255, 255, 255], [255, 255, 255], [255, 255, 255], [255, 255, 255],...   \n",
       "\n",
       "    label  \n",
       "0  potato  \n",
       "1   grape  \n",
       "2  tomato  \n",
       "3   peach  \n",
       "4    pear  "
      ]
     },
     "execution_count": 16,
     "metadata": {},
     "output_type": "execute_result"
    }
   ],
   "source": [
    "dftrain.head()"
   ]
  },
  {
   "cell_type": "code",
   "execution_count": 17,
   "id": "1930504f",
   "metadata": {
    "execution": {
     "iopub.execute_input": "2024-01-28T11:00:28.980405Z",
     "iopub.status.busy": "2024-01-28T11:00:28.979817Z",
     "iopub.status.idle": "2024-01-28T11:00:44.720521Z",
     "shell.execute_reply": "2024-01-28T11:00:44.719642Z"
    },
    "papermill": {
     "duration": 15.759511,
     "end_time": "2024-01-28T11:00:44.722678",
     "exception": false,
     "start_time": "2024-01-28T11:00:28.963167",
     "status": "completed"
    },
    "tags": []
   },
   "outputs": [
    {
     "data": {
      "text/html": [
       "<div>\n",
       "<style scoped>\n",
       "    .dataframe tbody tr th:only-of-type {\n",
       "        vertical-align: middle;\n",
       "    }\n",
       "\n",
       "    .dataframe tbody tr th {\n",
       "        vertical-align: top;\n",
       "    }\n",
       "\n",
       "    .dataframe thead th {\n",
       "        text-align: right;\n",
       "    }\n",
       "</style>\n",
       "<table border=\"1\" class=\"dataframe\">\n",
       "  <thead>\n",
       "    <tr style=\"text-align: right;\">\n",
       "      <th></th>\n",
       "      <th>image</th>\n",
       "      <th>label</th>\n",
       "    </tr>\n",
       "  </thead>\n",
       "  <tbody>\n",
       "    <tr>\n",
       "      <th>0</th>\n",
       "      <td>[[[255, 254, 255], [255, 254, 255], [255, 254, 255], [255, 254, 255], [255, 254, 255], [255, 255, 253], [254, 255, 253], [253, 255, 254], [251, 255, 255], [251, 255, 255], [251, 255, 255], [251, 255, 255], [251, 255, 255], [251, 255, 255], [251, 255, 255], [251, 255, 255], [252, 255, 255], [253, 255, 255], [254, 255, 255], [255, 255, 255], [255, 255, 253], [255, 255, 251], [255, 255, 250], [255, 255, 250], [255, 255, 250], [255, 255, 250], [255, 255, 251], [255, 255, 251], [255, 255, 252], [255, 255, 253], [255, 255, 254], [255, 254, 255], [255, 254, 255], [254, 255, 255], [254, 255, 255],...</td>\n",
       "      <td>tomato</td>\n",
       "    </tr>\n",
       "    <tr>\n",
       "      <th>1</th>\n",
       "      <td>[[[255, 255, 255], [255, 255, 255], [255, 255, 255], [255, 255, 255], [255, 255, 255], [255, 255, 255], [255, 255, 255], [255, 255, 255], [255, 255, 255], [255, 255, 255], [255, 255, 255], [255, 255, 255], [255, 255, 255], [255, 255, 255], [255, 255, 255], [255, 255, 255], [255, 255, 255], [255, 255, 255], [255, 255, 255], [255, 255, 255], [255, 255, 255], [255, 255, 255], [255, 255, 255], [255, 255, 255], [255, 255, 255], [255, 255, 255], [255, 255, 255], [255, 255, 255], [255, 255, 255], [255, 255, 255], [255, 255, 255], [255, 255, 255], [255, 255, 255], [255, 255, 255], [255, 255, 255],...</td>\n",
       "      <td>maracuja</td>\n",
       "    </tr>\n",
       "    <tr>\n",
       "      <th>2</th>\n",
       "      <td>[[[255, 255, 255], [255, 255, 255], [255, 255, 255], [255, 255, 255], [255, 255, 255], [255, 255, 255], [255, 255, 255], [255, 255, 255], [255, 255, 255], [255, 255, 255], [255, 255, 255], [255, 255, 255], [255, 255, 255], [255, 255, 255], [255, 255, 255], [255, 255, 255], [255, 255, 255], [255, 255, 255], [255, 255, 255], [255, 255, 255], [255, 255, 255], [255, 255, 255], [255, 255, 255], [255, 255, 255], [255, 255, 255], [255, 255, 255], [255, 255, 255], [255, 255, 255], [255, 255, 255], [255, 255, 255], [255, 255, 255], [255, 255, 255], [255, 255, 255], [255, 255, 255], [255, 255, 255],...</td>\n",
       "      <td>limes</td>\n",
       "    </tr>\n",
       "    <tr>\n",
       "      <th>3</th>\n",
       "      <td>[[[255, 255, 255], [255, 255, 255], [255, 255, 255], [255, 255, 255], [255, 255, 255], [255, 255, 255], [255, 255, 255], [255, 255, 255], [255, 255, 255], [255, 255, 255], [255, 255, 255], [255, 255, 255], [255, 255, 255], [255, 255, 255], [255, 255, 255], [255, 255, 255], [255, 255, 255], [255, 255, 255], [255, 255, 255], [255, 255, 255], [255, 255, 255], [255, 255, 255], [255, 255, 255], [255, 255, 255], [255, 255, 255], [255, 255, 255], [255, 255, 255], [255, 255, 255], [255, 255, 255], [255, 255, 255], [255, 255, 255], [255, 255, 255], [255, 255, 255], [255, 255, 255], [255, 255, 255],...</td>\n",
       "      <td>apple</td>\n",
       "    </tr>\n",
       "    <tr>\n",
       "      <th>4</th>\n",
       "      <td>[[[255, 255, 255], [255, 255, 255], [255, 255, 255], [255, 255, 255], [255, 255, 255], [255, 255, 255], [255, 255, 255], [255, 255, 255], [255, 255, 255], [255, 255, 255], [255, 255, 255], [255, 255, 255], [255, 255, 255], [255, 255, 255], [255, 255, 255], [255, 255, 255], [255, 255, 255], [255, 255, 255], [255, 255, 255], [255, 255, 255], [255, 255, 255], [255, 255, 255], [255, 255, 255], [255, 255, 255], [255, 255, 255], [255, 255, 255], [255, 255, 255], [255, 255, 255], [255, 255, 255], [255, 255, 255], [255, 255, 255], [255, 255, 255], [255, 255, 255], [255, 255, 255], [255, 255, 255],...</td>\n",
       "      <td>granadilla</td>\n",
       "    </tr>\n",
       "  </tbody>\n",
       "</table>\n",
       "</div>"
      ],
      "text/plain": [
       "                                                                                                                                                                                                                                                                                                                                                                                                                                                                                                                                                                                                                     image  \\\n",
       "0  [[[255, 254, 255], [255, 254, 255], [255, 254, 255], [255, 254, 255], [255, 254, 255], [255, 255, 253], [254, 255, 253], [253, 255, 254], [251, 255, 255], [251, 255, 255], [251, 255, 255], [251, 255, 255], [251, 255, 255], [251, 255, 255], [251, 255, 255], [251, 255, 255], [252, 255, 255], [253, 255, 255], [254, 255, 255], [255, 255, 255], [255, 255, 253], [255, 255, 251], [255, 255, 250], [255, 255, 250], [255, 255, 250], [255, 255, 250], [255, 255, 251], [255, 255, 251], [255, 255, 252], [255, 255, 253], [255, 255, 254], [255, 254, 255], [255, 254, 255], [254, 255, 255], [254, 255, 255],...   \n",
       "1  [[[255, 255, 255], [255, 255, 255], [255, 255, 255], [255, 255, 255], [255, 255, 255], [255, 255, 255], [255, 255, 255], [255, 255, 255], [255, 255, 255], [255, 255, 255], [255, 255, 255], [255, 255, 255], [255, 255, 255], [255, 255, 255], [255, 255, 255], [255, 255, 255], [255, 255, 255], [255, 255, 255], [255, 255, 255], [255, 255, 255], [255, 255, 255], [255, 255, 255], [255, 255, 255], [255, 255, 255], [255, 255, 255], [255, 255, 255], [255, 255, 255], [255, 255, 255], [255, 255, 255], [255, 255, 255], [255, 255, 255], [255, 255, 255], [255, 255, 255], [255, 255, 255], [255, 255, 255],...   \n",
       "2  [[[255, 255, 255], [255, 255, 255], [255, 255, 255], [255, 255, 255], [255, 255, 255], [255, 255, 255], [255, 255, 255], [255, 255, 255], [255, 255, 255], [255, 255, 255], [255, 255, 255], [255, 255, 255], [255, 255, 255], [255, 255, 255], [255, 255, 255], [255, 255, 255], [255, 255, 255], [255, 255, 255], [255, 255, 255], [255, 255, 255], [255, 255, 255], [255, 255, 255], [255, 255, 255], [255, 255, 255], [255, 255, 255], [255, 255, 255], [255, 255, 255], [255, 255, 255], [255, 255, 255], [255, 255, 255], [255, 255, 255], [255, 255, 255], [255, 255, 255], [255, 255, 255], [255, 255, 255],...   \n",
       "3  [[[255, 255, 255], [255, 255, 255], [255, 255, 255], [255, 255, 255], [255, 255, 255], [255, 255, 255], [255, 255, 255], [255, 255, 255], [255, 255, 255], [255, 255, 255], [255, 255, 255], [255, 255, 255], [255, 255, 255], [255, 255, 255], [255, 255, 255], [255, 255, 255], [255, 255, 255], [255, 255, 255], [255, 255, 255], [255, 255, 255], [255, 255, 255], [255, 255, 255], [255, 255, 255], [255, 255, 255], [255, 255, 255], [255, 255, 255], [255, 255, 255], [255, 255, 255], [255, 255, 255], [255, 255, 255], [255, 255, 255], [255, 255, 255], [255, 255, 255], [255, 255, 255], [255, 255, 255],...   \n",
       "4  [[[255, 255, 255], [255, 255, 255], [255, 255, 255], [255, 255, 255], [255, 255, 255], [255, 255, 255], [255, 255, 255], [255, 255, 255], [255, 255, 255], [255, 255, 255], [255, 255, 255], [255, 255, 255], [255, 255, 255], [255, 255, 255], [255, 255, 255], [255, 255, 255], [255, 255, 255], [255, 255, 255], [255, 255, 255], [255, 255, 255], [255, 255, 255], [255, 255, 255], [255, 255, 255], [255, 255, 255], [255, 255, 255], [255, 255, 255], [255, 255, 255], [255, 255, 255], [255, 255, 255], [255, 255, 255], [255, 255, 255], [255, 255, 255], [255, 255, 255], [255, 255, 255], [255, 255, 255],...   \n",
       "\n",
       "        label  \n",
       "0      tomato  \n",
       "1    maracuja  \n",
       "2       limes  \n",
       "3       apple  \n",
       "4  granadilla  "
      ]
     },
     "execution_count": 17,
     "metadata": {},
     "output_type": "execute_result"
    }
   ],
   "source": [
    "dftest.head()"
   ]
  },
  {
   "cell_type": "code",
   "execution_count": 18,
   "id": "ba0a99fd",
   "metadata": {
    "execution": {
     "iopub.execute_input": "2024-01-28T11:00:44.757147Z",
     "iopub.status.busy": "2024-01-28T11:00:44.756842Z",
     "iopub.status.idle": "2024-01-28T11:00:44.910946Z",
     "shell.execute_reply": "2024-01-28T11:00:44.909938Z"
    },
    "papermill": {
     "duration": 0.173655,
     "end_time": "2024-01-28T11:00:44.912940",
     "exception": false,
     "start_time": "2024-01-28T11:00:44.739285",
     "status": "completed"
    },
    "tags": []
   },
   "outputs": [
    {
     "data": {
      "text/plain": [
       "6385"
      ]
     },
     "execution_count": 18,
     "metadata": {},
     "output_type": "execute_result"
    }
   ],
   "source": [
    "del X_train, X_test, y_train, y_test \n",
    "gc.collect()"
   ]
  },
  {
   "cell_type": "code",
   "execution_count": 19,
   "id": "4116eeb3",
   "metadata": {
    "execution": {
     "iopub.execute_input": "2024-01-28T11:00:44.947223Z",
     "iopub.status.busy": "2024-01-28T11:00:44.946681Z",
     "iopub.status.idle": "2024-01-28T11:00:44.952625Z",
     "shell.execute_reply": "2024-01-28T11:00:44.951743Z"
    },
    "papermill": {
     "duration": 0.024969,
     "end_time": "2024-01-28T11:00:44.954643",
     "exception": false,
     "start_time": "2024-01-28T11:00:44.929674",
     "status": "completed"
    },
    "tags": []
   },
   "outputs": [
    {
     "data": {
      "text/plain": [
       "(256, 256, 3)"
      ]
     },
     "execution_count": 19,
     "metadata": {},
     "output_type": "execute_result"
    }
   ],
   "source": [
    "dftrain.image.iloc[0].shape"
   ]
  },
  {
   "cell_type": "code",
   "execution_count": 20,
   "id": "570a8ced",
   "metadata": {
    "execution": {
     "iopub.execute_input": "2024-01-28T11:00:44.988100Z",
     "iopub.status.busy": "2024-01-28T11:00:44.987820Z",
     "iopub.status.idle": "2024-01-28T11:00:45.226647Z",
     "shell.execute_reply": "2024-01-28T11:00:45.225722Z"
    },
    "papermill": {
     "duration": 0.258054,
     "end_time": "2024-01-28T11:00:45.228911",
     "exception": false,
     "start_time": "2024-01-28T11:00:44.970857",
     "status": "completed"
    },
    "tags": []
   },
   "outputs": [
    {
     "data": {
      "text/plain": [
       "<matplotlib.image.AxesImage at 0x7c0e9dabfe50>"
      ]
     },
     "execution_count": 20,
     "metadata": {},
     "output_type": "execute_result"
    },
    {
     "data": {
      "image/png": "[encoded data removed]",
      "text/plain": [
       "<Figure size 640x480 with 1 Axes>"
      ]
     },
     "metadata": {},
     "output_type": "display_data"
    }
   ],
   "source": [
    "plt.imshow(dftrain.image.iloc[0])"
   ]
  },
  {
   "cell_type": "code",
   "execution_count": 21,
   "id": "045b105c",
   "metadata": {
    "execution": {
     "iopub.execute_input": "2024-01-28T11:00:45.265943Z",
     "iopub.status.busy": "2024-01-28T11:00:45.265634Z",
     "iopub.status.idle": "2024-01-28T11:00:45.414607Z",
     "shell.execute_reply": "2024-01-28T11:00:45.413731Z"
    },
    "papermill": {
     "duration": 0.169875,
     "end_time": "2024-01-28T11:00:45.416763",
     "exception": false,
     "start_time": "2024-01-28T11:00:45.246888",
     "status": "completed"
    },
    "tags": []
   },
   "outputs": [
    {
     "data": {
      "text/plain": [
       "50"
      ]
     },
     "execution_count": 21,
     "metadata": {},
     "output_type": "execute_result"
    }
   ],
   "source": [
    "unique=dftrain.label.unique()\n",
    "unique1=unique\n",
    "unique=enumerate(unique)\n",
    "legend={}\n",
    "for i, j in unique:\n",
    "    legend[j]=i\n",
    "del unique\n",
    "gc.collect()"
   ]
  },
  {
   "cell_type": "code",
   "execution_count": 22,
   "id": "4b0340cf",
   "metadata": {
    "execution": {
     "iopub.execute_input": "2024-01-28T11:00:45.453828Z",
     "iopub.status.busy": "2024-01-28T11:00:45.453541Z",
     "iopub.status.idle": "2024-01-28T11:00:45.459128Z",
     "shell.execute_reply": "2024-01-28T11:00:45.458298Z"
    },
    "papermill": {
     "duration": 0.026131,
     "end_time": "2024-01-28T11:00:45.460993",
     "exception": false,
     "start_time": "2024-01-28T11:00:45.434862",
     "status": "completed"
    },
    "tags": []
   },
   "outputs": [],
   "source": [
    "class trainingdf(torch.utils.data.Dataset):\n",
    "    def __init__(self, df, class2index):\n",
    "        self.DF = df\n",
    "        self.class2index = class2index\n",
    "\n",
    "    def __len__(self):\n",
    "        return self.DF.shape[0]\n",
    "\n",
    "    def __getitem__(self, index):\n",
    "        image = self.DF.image.iloc[index]\n",
    "        label = self.DF.label.iloc[index]\n",
    "        label = self.class2index[label]\n",
    "        return image, label\n"
   ]
  },
  {
   "cell_type": "code",
   "execution_count": 23,
   "id": "71bbb442",
   "metadata": {
    "execution": {
     "iopub.execute_input": "2024-01-28T11:00:45.497355Z",
     "iopub.status.busy": "2024-01-28T11:00:45.497075Z",
     "iopub.status.idle": "2024-01-28T11:00:45.506396Z",
     "shell.execute_reply": "2024-01-28T11:00:45.505572Z"
    },
    "papermill": {
     "duration": 0.02974,
     "end_time": "2024-01-28T11:00:45.508311",
     "exception": false,
     "start_time": "2024-01-28T11:00:45.478571",
     "status": "completed"
    },
    "tags": []
   },
   "outputs": [],
   "source": [
    "unique_labels = dftrain['label'].unique()\n",
    "class2index = {label: index for index, label in enumerate(unique_labels)}\n",
    "dftrain=trainingdf(dftrain, class2index)\n",
    "dftest=trainingdf(dftest, class2index)\n"
   ]
  },
  {
   "cell_type": "code",
   "execution_count": 24,
   "id": "04514914",
   "metadata": {
    "execution": {
     "iopub.execute_input": "2024-01-28T11:00:45.545109Z",
     "iopub.status.busy": "2024-01-28T11:00:45.544850Z",
     "iopub.status.idle": "2024-01-28T11:00:45.677463Z",
     "shell.execute_reply": "2024-01-28T11:00:45.676424Z"
    },
    "papermill": {
     "duration": 0.153291,
     "end_time": "2024-01-28T11:00:45.679513",
     "exception": false,
     "start_time": "2024-01-28T11:00:45.526222",
     "status": "completed"
    },
    "tags": []
   },
   "outputs": [
    {
     "data": {
      "text/plain": [
       "0"
      ]
     },
     "execution_count": 24,
     "metadata": {},
     "output_type": "execute_result"
    }
   ],
   "source": [
    "gc.collect()"
   ]
  },
  {
   "cell_type": "markdown",
   "id": "0bf52006",
   "metadata": {
    "papermill": {
     "duration": 0.017751,
     "end_time": "2024-01-28T11:00:45.716253",
     "exception": false,
     "start_time": "2024-01-28T11:00:45.698502",
     "status": "completed"
    },
    "tags": []
   },
   "source": [
    "# Training Model"
   ]
  },
  {
   "cell_type": "code",
   "execution_count": 25,
   "id": "d1aaebc9",
   "metadata": {
    "execution": {
     "iopub.execute_input": "2024-01-28T11:00:45.752968Z",
     "iopub.status.busy": "2024-01-28T11:00:45.752653Z",
     "iopub.status.idle": "2024-01-28T11:00:45.758281Z",
     "shell.execute_reply": "2024-01-28T11:00:45.757466Z"
    },
    "papermill": {
     "duration": 0.02617,
     "end_time": "2024-01-28T11:00:45.760190",
     "exception": false,
     "start_time": "2024-01-28T11:00:45.734020",
     "status": "completed"
    },
    "tags": []
   },
   "outputs": [],
   "source": [
    "from __future__ import print_function, division\n",
    "import torch\n",
    "import torch.nn as nn\n",
    "import torch.optim as optim\n",
    "from torch.optim import lr_scheduler\n",
    "import torch.backends.cudnn as cudnn\n",
    "import torchvision\n",
    "from torchvision import datasets, models, transforms\n",
    "import matplotlib.pyplot as plt\n",
    "import time\n",
    "from torch.utils.data import Dataset, DataLoader, ConcatDataset\n",
    "import copy"
   ]
  },
  {
   "cell_type": "code",
   "execution_count": 26,
   "id": "2daef72d",
   "metadata": {
    "execution": {
     "iopub.execute_input": "2024-01-28T11:00:45.797236Z",
     "iopub.status.busy": "2024-01-28T11:00:45.796982Z",
     "iopub.status.idle": "2024-01-28T11:00:45.801468Z",
     "shell.execute_reply": "2024-01-28T11:00:45.800611Z"
    },
    "papermill": {
     "duration": 0.025118,
     "end_time": "2024-01-28T11:00:45.803372",
     "exception": false,
     "start_time": "2024-01-28T11:00:45.778254",
     "status": "completed"
    },
    "tags": []
   },
   "outputs": [],
   "source": [
    "dls_tr=DataLoader(dftrain,batch_size=4*2,shuffle=True,num_workers=0)\n"
   ]
  },
  {
   "cell_type": "code",
   "execution_count": 27,
   "id": "57040fc3",
   "metadata": {
    "execution": {
     "iopub.execute_input": "2024-01-28T11:00:45.840752Z",
     "iopub.status.busy": "2024-01-28T11:00:45.840280Z",
     "iopub.status.idle": "2024-01-28T11:00:45.844332Z",
     "shell.execute_reply": "2024-01-28T11:00:45.843531Z"
    },
    "papermill": {
     "duration": 0.024517,
     "end_time": "2024-01-28T11:00:45.846225",
     "exception": false,
     "start_time": "2024-01-28T11:00:45.821708",
     "status": "completed"
    },
    "tags": []
   },
   "outputs": [],
   "source": [
    "dls_te=DataLoader(dftest,batch_size=4*2,shuffle=True,num_workers=0)\n"
   ]
  },
  {
   "cell_type": "code",
   "execution_count": 28,
   "id": "fdd98a00",
   "metadata": {
    "execution": {
     "iopub.execute_input": "2024-01-28T11:00:45.882871Z",
     "iopub.status.busy": "2024-01-28T11:00:45.882588Z",
     "iopub.status.idle": "2024-01-28T11:00:45.887714Z",
     "shell.execute_reply": "2024-01-28T11:00:45.886898Z"
    },
    "papermill": {
     "duration": 0.025494,
     "end_time": "2024-01-28T11:00:45.889560",
     "exception": false,
     "start_time": "2024-01-28T11:00:45.864066",
     "status": "completed"
    },
    "tags": []
   },
   "outputs": [
    {
     "data": {
      "text/plain": [
       "8"
      ]
     },
     "execution_count": 28,
     "metadata": {},
     "output_type": "execute_result"
    }
   ],
   "source": [
    "dls_te.batch_size\n"
   ]
  },
  {
   "cell_type": "code",
   "execution_count": 29,
   "id": "8ec6b591",
   "metadata": {
    "execution": {
     "iopub.execute_input": "2024-01-28T11:00:45.934885Z",
     "iopub.status.busy": "2024-01-28T11:00:45.934256Z",
     "iopub.status.idle": "2024-01-28T11:00:46.007779Z",
     "shell.execute_reply": "2024-01-28T11:00:46.006840Z"
    },
    "papermill": {
     "duration": 0.101865,
     "end_time": "2024-01-28T11:00:46.009803",
     "exception": false,
     "start_time": "2024-01-28T11:00:45.907938",
     "status": "completed"
    },
    "tags": []
   },
   "outputs": [],
   "source": [
    "for i,j in dls_tr:\n",
    "    break"
   ]
  },
  {
   "cell_type": "code",
   "execution_count": 30,
   "id": "2b4e9dd2",
   "metadata": {
    "execution": {
     "iopub.execute_input": "2024-01-28T11:00:46.048708Z",
     "iopub.status.busy": "2024-01-28T11:00:46.048414Z",
     "iopub.status.idle": "2024-01-28T11:00:46.053907Z",
     "shell.execute_reply": "2024-01-28T11:00:46.052984Z"
    },
    "papermill": {
     "duration": 0.027209,
     "end_time": "2024-01-28T11:00:46.056451",
     "exception": false,
     "start_time": "2024-01-28T11:00:46.029242",
     "status": "completed"
    },
    "tags": []
   },
   "outputs": [
    {
     "data": {
      "text/plain": [
       "torch.Size([8, 256, 256, 3])"
      ]
     },
     "execution_count": 30,
     "metadata": {},
     "output_type": "execute_result"
    }
   ],
   "source": [
    "i.shape\n"
   ]
  },
  {
   "cell_type": "code",
   "execution_count": 31,
   "id": "17c65859",
   "metadata": {
    "execution": {
     "iopub.execute_input": "2024-01-28T11:00:46.096197Z",
     "iopub.status.busy": "2024-01-28T11:00:46.095429Z",
     "iopub.status.idle": "2024-01-28T11:00:46.289984Z",
     "shell.execute_reply": "2024-01-28T11:00:46.288944Z"
    },
    "papermill": {
     "duration": 0.216647,
     "end_time": "2024-01-28T11:00:46.292047",
     "exception": false,
     "start_time": "2024-01-28T11:00:46.075400",
     "status": "completed"
    },
    "tags": []
   },
   "outputs": [
    {
     "name": "stdout",
     "output_type": "stream",
     "text": [
      "47\n"
     ]
    },
    {
     "data": {
      "image/png": "[encoded data removed]",
      "text/plain": [
       "<Figure size 640x480 with 1 Axes>"
      ]
     },
     "metadata": {},
     "output_type": "display_data"
    }
   ],
   "source": [
    "plt.imshow(i[0][0])\n",
    "print(j[0].item())\n"
   ]
  },
  {
   "cell_type": "code",
   "execution_count": 32,
   "id": "38b2f2cd",
   "metadata": {
    "execution": {
     "iopub.execute_input": "2024-01-28T11:00:46.340930Z",
     "iopub.status.busy": "2024-01-28T11:00:46.340605Z",
     "iopub.status.idle": "2024-01-28T11:00:47.504133Z",
     "shell.execute_reply": "2024-01-28T11:00:47.503127Z"
    },
    "papermill": {
     "duration": 1.1917,
     "end_time": "2024-01-28T11:00:47.506378",
     "exception": false,
     "start_time": "2024-01-28T11:00:46.314678",
     "status": "completed"
    },
    "tags": []
   },
   "outputs": [
    {
     "name": "stderr",
     "output_type": "stream",
     "text": [
      "/opt/conda/lib/python3.10/site-packages/torchvision/models/_utils.py:208: UserWarning: The parameter 'pretrained' is deprecated since 0.13 and may be removed in the future, please use 'weights' instead.\n",
      "  warnings.warn(\n",
      "/opt/conda/lib/python3.10/site-packages/torchvision/models/_utils.py:223: UserWarning: Arguments other than a weight enum or `None` for 'weights' are deprecated since 0.13 and may be removed in the future. The current behavior is equivalent to passing `weights=ResNet50_Weights.IMAGENET1K_V1`. You can also use `weights=ResNet50_Weights.DEFAULT` to get the most up-to-date weights.\n",
      "  warnings.warn(msg)\n",
      "Downloading: \"https://download.pytorch.org/models/resnet50-0676ba61.pth\" to /root/.cache/torch/hub/checkpoints/resnet50-0676ba61.pth\n",
      "100%|██████████| 97.8M/97.8M [00:00<00:00, 220MB/s]\n"
     ]
    }
   ],
   "source": [
    "model = torchvision.models.resnet50(pretrained=True)\n",
    "device = torch.device('cuda' if torch.cuda.is_available() else 'cpu')"
   ]
  },
  {
   "cell_type": "code",
   "execution_count": 33,
   "id": "ee95b907",
   "metadata": {
    "execution": {
     "iopub.execute_input": "2024-01-28T11:00:47.546583Z",
     "iopub.status.busy": "2024-01-28T11:00:47.546302Z",
     "iopub.status.idle": "2024-01-28T11:00:47.551574Z",
     "shell.execute_reply": "2024-01-28T11:00:47.550733Z"
    },
    "papermill": {
     "duration": 0.027371,
     "end_time": "2024-01-28T11:00:47.553515",
     "exception": false,
     "start_time": "2024-01-28T11:00:47.526144",
     "status": "completed"
    },
    "tags": []
   },
   "outputs": [
    {
     "data": {
      "text/plain": [
       "device(type='cuda')"
      ]
     },
     "execution_count": 33,
     "metadata": {},
     "output_type": "execute_result"
    }
   ],
   "source": [
    "device"
   ]
  },
  {
   "cell_type": "code",
   "execution_count": 34,
   "id": "c19b5715",
   "metadata": {
    "execution": {
     "iopub.execute_input": "2024-01-28T11:00:47.593359Z",
     "iopub.status.busy": "2024-01-28T11:00:47.593079Z",
     "iopub.status.idle": "2024-01-28T11:00:47.599003Z",
     "shell.execute_reply": "2024-01-28T11:00:47.598142Z"
    },
    "papermill": {
     "duration": 0.027975,
     "end_time": "2024-01-28T11:00:47.600855",
     "exception": false,
     "start_time": "2024-01-28T11:00:47.572880",
     "status": "completed"
    },
    "tags": []
   },
   "outputs": [],
   "source": [
    "criterion = nn.CrossEntropyLoss()\n",
    "optimizer = torch.optim.Adam(model.parameters(), lr=0.002, amsgrad = True)\n",
    "scheduler = torch.optim.lr_scheduler.MultiStepLR(optimizer, milestones=[5000, 12000, 18000], gamma=0.5)"
   ]
  },
  {
   "cell_type": "code",
   "execution_count": 35,
   "id": "c5317088",
   "metadata": {
    "execution": {
     "iopub.execute_input": "2024-01-28T11:00:47.640728Z",
     "iopub.status.busy": "2024-01-28T11:00:47.640461Z",
     "iopub.status.idle": "2024-01-28T11:00:47.836463Z",
     "shell.execute_reply": "2024-01-28T11:00:47.835665Z"
    },
    "papermill": {
     "duration": 0.218497,
     "end_time": "2024-01-28T11:00:47.838785",
     "exception": false,
     "start_time": "2024-01-28T11:00:47.620288",
     "status": "completed"
    },
    "tags": []
   },
   "outputs": [],
   "source": [
    "num_ftrs = model.fc.in_features\n",
    "model.fc = nn.Linear(num_ftrs, 340)\n",
    "model = model.to(device)"
   ]
  },
  {
   "cell_type": "code",
   "execution_count": 36,
   "id": "f4aff431",
   "metadata": {
    "execution": {
     "iopub.execute_input": "2024-01-28T11:00:47.879379Z",
     "iopub.status.busy": "2024-01-28T11:00:47.879085Z",
     "iopub.status.idle": "2024-01-28T11:00:47.883293Z",
     "shell.execute_reply": "2024-01-28T11:00:47.882440Z"
    },
    "papermill": {
     "duration": 0.026517,
     "end_time": "2024-01-28T11:00:47.885184",
     "exception": false,
     "start_time": "2024-01-28T11:00:47.858667",
     "status": "completed"
    },
    "tags": []
   },
   "outputs": [],
   "source": [
    "dataloaders={\"train\":dls_tr,\"valid\":dls_te}"
   ]
  },
  {
   "cell_type": "code",
   "execution_count": 37,
   "id": "6884906f",
   "metadata": {
    "execution": {
     "iopub.execute_input": "2024-01-28T11:00:47.925329Z",
     "iopub.status.busy": "2024-01-28T11:00:47.925070Z",
     "iopub.status.idle": "2024-01-28T11:00:48.072686Z",
     "shell.execute_reply": "2024-01-28T11:00:48.071847Z"
    },
    "papermill": {
     "duration": 0.170417,
     "end_time": "2024-01-28T11:00:48.074890",
     "exception": false,
     "start_time": "2024-01-28T11:00:47.904473",
     "status": "completed"
    },
    "tags": []
   },
   "outputs": [
    {
     "data": {
      "text/plain": [
       "21"
      ]
     },
     "execution_count": 37,
     "metadata": {},
     "output_type": "execute_result"
    }
   ],
   "source": [
    "del dls_tr,dls_te\n",
    "gc.collect()"
   ]
  },
  {
   "cell_type": "code",
   "execution_count": 38,
   "id": "194579c9",
   "metadata": {
    "execution": {
     "iopub.execute_input": "2024-01-28T11:00:48.117406Z",
     "iopub.status.busy": "2024-01-28T11:00:48.117134Z",
     "iopub.status.idle": "2024-01-28T11:00:48.128584Z",
     "shell.execute_reply": "2024-01-28T11:00:48.127749Z"
    },
    "papermill": {
     "duration": 0.033942,
     "end_time": "2024-01-28T11:00:48.130375",
     "exception": false,
     "start_time": "2024-01-28T11:00:48.096433",
     "status": "completed"
    },
    "tags": []
   },
   "outputs": [],
   "source": [
    "def train_model(model, criterion, optimizer, scheduler, num_epochs=25):\n",
    "    since = time.time()\n",
    "\n",
    "    best_model_wts = copy.deepcopy(model.state_dict())\n",
    "    best_acc = 0.0\n",
    "\n",
    "    for epoch in range(num_epochs):\n",
    "        print(f'Epoch {epoch}/{num_epochs - 1}')\n",
    "        print('-' * 10)\n",
    "\n",
    "        # Each epoch has a training and validation phase\n",
    "        for phase in ['train', 'valid']:\n",
    "            if phase == 'train':\n",
    "                model.train()  # Set model to training mode\n",
    "            else:\n",
    "                model.eval()   # Set model to evaluate mode\n",
    "\n",
    "            running_loss = 0.0\n",
    "            running_corrects = 0\n",
    "             #global inputs\n",
    "            # Iterate over data.\n",
    "            for inputs, labels in dataloaders[phase]:\n",
    "                inputs = inputs.to(device)\n",
    "                labels = labels.to(device)\n",
    "\n",
    "                # zero the parameter gradients\n",
    "                optimizer.zero_grad()\n",
    "\n",
    "                # forward\n",
    "                # track history if only in train\n",
    "                with torch.set_grad_enabled(phase == 'train'):\n",
    "                    \n",
    "                    outputs = model(inputs/255)\n",
    "                    _, preds = torch.max(outputs, 1)\n",
    "                    loss = criterion(outputs, labels)\n",
    "\n",
    "                    # backward + optimize only if in training phase\n",
    "                    if phase == 'train':\n",
    "                        loss.backward()\n",
    "                        optimizer.step()\n",
    "\n",
    "                # statistics\n",
    "                running_loss += loss.item() * inputs.size(0)\n",
    "                running_corrects += torch.sum(preds == labels.data)\n",
    "            if phase == 'train':\n",
    "                scheduler.step()\n",
    "\n",
    "            epoch_loss = running_loss / dataset_sizes[phase]\n",
    "            epoch_acc = running_corrects.double() / dataset_sizes[phase]\n",
    "\n",
    "            print(f'{phase} Loss: {epoch_loss:.4f} Acc: {epoch_acc:.4f}')\n",
    "\n",
    "            # deep copy the model\n",
    "            if phase == 'valid' and epoch_acc > best_acc:\n",
    "                best_acc = epoch_acc\n",
    "                best_model_wts = copy.deepcopy(model.state_dict())\n",
    "\n",
    "        print()\n",
    "\n",
    "    time_elapsed = time.time() - since\n",
    "    print(f'Training complete in {time_elapsed // 60:.0f}m {time_elapsed % 60:.0f}s')\n",
    "    print(f'Best val Acc: {best_acc:4f}')\n",
    "    del best_acc, epoch_loss, epoch_acc\n",
    "    gc.collect()\n",
    "    # load best model weights\n",
    "    model.load_state_dict(best_model_wts)\n",
    "    return model"
   ]
  },
  {
   "cell_type": "code",
   "execution_count": 39,
   "id": "22b1efe3",
   "metadata": {
    "execution": {
     "iopub.execute_input": "2024-01-28T11:00:48.170247Z",
     "iopub.status.busy": "2024-01-28T11:00:48.170004Z",
     "iopub.status.idle": "2024-01-28T11:00:48.177536Z",
     "shell.execute_reply": "2024-01-28T11:00:48.176678Z"
    },
    "papermill": {
     "duration": 0.029551,
     "end_time": "2024-01-28T11:00:48.179408",
     "exception": false,
     "start_time": "2024-01-28T11:00:48.149857",
     "status": "completed"
    },
    "tags": []
   },
   "outputs": [],
   "source": [
    "def visualize_model(model, num_images=6):\n",
    "    was_training = model.training\n",
    "    model.eval()\n",
    "    images_so_far = 0\n",
    "    fig = plt.figure()\n",
    "\n",
    "    with torch.no_grad():\n",
    "        for i, (inputs, labels) in enumerate(dataloaders['valid']):\n",
    "            \n",
    "            inputs = inputs.to(device)\n",
    "            labels = labels.to(device)\n",
    "\n",
    "            outputs = model(inputs/255)\n",
    "            _, preds = torch.max(outputs, 1)\n",
    "\n",
    "            for j in range(inputs.size()[0]):\n",
    "                images_so_far += 1\n",
    "                ax = plt.subplot(num_images//2, 2, images_so_far)\n",
    "                ax.axis('off')\n",
    "                \n",
    "                ax.set_title(f'predicted: {decode_labels(j)}')\n",
    "                plt.imshow(inputs.cpu().data[j][0])\n",
    "\n",
    "                if images_so_far == num_images:\n",
    "                    model.train(mode=was_training)\n",
    "                    return\n",
    "        model.train(mode=was_training)\n",
    "        "
   ]
  },
  {
   "cell_type": "code",
   "execution_count": 40,
   "id": "394ca77e",
   "metadata": {
    "execution": {
     "iopub.execute_input": "2024-01-28T11:00:48.219653Z",
     "iopub.status.busy": "2024-01-28T11:00:48.219205Z",
     "iopub.status.idle": "2024-01-28T11:00:48.258581Z",
     "shell.execute_reply": "2024-01-28T11:00:48.257761Z"
    },
    "papermill": {
     "duration": 0.061677,
     "end_time": "2024-01-28T11:00:48.260538",
     "exception": false,
     "start_time": "2024-01-28T11:00:48.198861",
     "status": "completed"
    },
    "tags": []
   },
   "outputs": [
    {
     "data": {
      "text/plain": [
       "Conv2d(1, 64, kernel_size=(7, 7), stride=(2, 2), padding=(3, 3), bias=False)"
      ]
     },
     "execution_count": 40,
     "metadata": {},
     "output_type": "execute_result"
    }
   ],
   "source": [
    "def squeeze_weights(m):\n",
    "    m.weight.data = m.weight.data.sum(dim=1)[:,None]\n",
    "    m.in_channels = 1\n",
    "\n",
    "model.conv1.apply(squeeze_weights)"
   ]
  },
  {
   "cell_type": "code",
   "execution_count": null,
   "id": "0d6a2039",
   "metadata": {
    "papermill": {
     "duration": 0.019547,
     "end_time": "2024-01-28T11:00:48.299778",
     "exception": false,
     "start_time": "2024-01-28T11:00:48.280231",
     "status": "completed"
    },
    "tags": []
   },
   "outputs": [],
   "source": []
  },
  {
   "cell_type": "raw",
   "id": "7e7a0732",
   "metadata": {
    "execution": {
     "iopub.execute_input": "2024-01-28T10:15:09.903140Z",
     "iopub.status.busy": "2024-01-28T10:15:09.902836Z",
     "iopub.status.idle": "2024-01-28T10:15:10.422651Z",
     "shell.execute_reply": "2024-01-28T10:15:10.421249Z",
     "shell.execute_reply.started": "2024-01-28T10:15:09.903115Z"
    },
    "papermill": {
     "duration": 0.019453,
     "end_time": "2024-01-28T11:00:48.338875",
     "exception": false,
     "start_time": "2024-01-28T11:00:48.319422",
     "status": "completed"
    },
    "tags": []
   },
   "source": [
    "model_ft = train_model(model, criterion, optimizer, scheduler, num_epochs=25)"
   ]
  }
 ],
 "metadata": {
  "kaggle": {
   "accelerator": "gpu",
   "dataSources": [
    {
     "datasetId": 5857,
     "sourceId": 2609027,
     "sourceType": "datasetVersion"
    }
   ],
   "dockerImageVersionId": 30635,
   "isGpuEnabled": true,
   "isInternetEnabled": true,
   "language": "python",
   "sourceType": "notebook"
  },
  "kernelspec": {
   "display_name": "Python 3",
   "language": "python",
   "name": "python3"
  },
  "language_info": {
   "codemirror_mode": {
    "name": "ipython",
    "version": 3
   },
   "file_extension": ".py",
   "mimetype": "text/x-python",
   "name": "python",
   "nbconvert_exporter": "python",
   "pygments_lexer": "ipython3",
   "version": "3.10.12"
  },
  "papermill": {
   "default_parameters": {},
   "duration": 666.761863,
   "end_time": "2024-01-28T11:00:51.455393",
   "environment_variables": {},
   "exception": null,
   "input_path": "__notebook__.ipynb",
   "output_path": "__notebook__.ipynb",
   "parameters": {},
   "start_time": "2024-01-28T10:49:44.693530",
   "version": "2.4.0"
  }
 },
 "nbformat": 4,
 "nbformat_minor": 5
}
